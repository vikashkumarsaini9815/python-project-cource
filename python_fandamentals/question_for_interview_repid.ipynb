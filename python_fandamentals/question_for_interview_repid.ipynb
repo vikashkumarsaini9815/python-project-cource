{
 "cells": [
  {
   "cell_type": "markdown",
   "metadata": {},
   "source": [
    "# Python"
   ]
  },
  {
   "cell_type": "code",
   "execution_count": null,
   "metadata": {},
   "outputs": [],
   "source": []
  },
  {
   "cell_type": "code",
   "execution_count": null,
   "metadata": {},
   "outputs": [],
   "source": [
    "# swap value of tow variable\n",
    "a =16\n",
    "b =8\n"
   ]
  },
  {
   "cell_type": "code",
   "execution_count": 25,
   "metadata": {},
   "outputs": [
    {
     "name": "stdout",
     "output_type": "stream",
     "text": [
      "b =  16 a =  8\n"
     ]
    }
   ],
   "source": [
    "c = a\n",
    "a = b\n",
    "b = c\n",
    "print(\"b = \",b ,\"a = \",a)"
   ]
  },
  {
   "cell_type": "code",
   "execution_count": 70,
   "metadata": {},
   "outputs": [
    {
     "name": "stdout",
     "output_type": "stream",
     "text": [
      "erolagnab\n"
     ]
    }
   ],
   "source": [
    "# wap reverse string\n",
    "\n",
    "str1 = \"bangalore\"\n",
    "str32 = \"\"\n",
    "for i in str1:\n",
    "     str32= i + str32\n",
    "print(str32)"
   ]
  },
  {
   "cell_type": "code",
   "execution_count": 41,
   "metadata": {},
   "outputs": [],
   "source": [
    "# swap value of two variable widhout creating 3 variable\n",
    "\n",
    "a = 5\n",
    "b = 8"
   ]
  },
  {
   "cell_type": "code",
   "execution_count": 42,
   "metadata": {},
   "outputs": [
    {
     "data": {
      "text/plain": [
       "10"
      ]
     },
     "execution_count": 42,
     "metadata": {},
     "output_type": "execute_result"
    }
   ],
   "source": [
    "a += "
   ]
  },
  {
   "cell_type": "code",
   "execution_count": null,
   "metadata": {},
   "outputs": [],
   "source": []
  },
  {
   "cell_type": "code",
   "execution_count": 58,
   "metadata": {},
   "outputs": [
    {
     "name": "stdout",
     "output_type": "stream",
     "text": [
      "no\n"
     ]
    }
   ],
   "source": [
    "# tell me no =8 is prime or not\n",
    "\n",
    "no = 98\n",
    "isprime = \"\"\n",
    "for ii in range(2,no):\n",
    "    if no % ii == 0:\n",
    "        isprime = \"no\"\n",
    "        break\n",
    "        \n",
    "    else:\n",
    "        isprime = \"yes\"\n",
    "print(isprime)"
   ]
  },
  {
   "cell_type": "code",
   "execution_count": null,
   "metadata": {},
   "outputs": [],
   "source": [
    "# "
   ]
  },
  {
   "cell_type": "code",
   "execution_count": 118,
   "metadata": {},
   "outputs": [
    {
     "ename": "IndentationError",
     "evalue": "expected an indented block after 'for' statement on line 14 (228651645.py, line 18)",
     "output_type": "error",
     "traceback": [
      "\u001b[1;36m  Input \u001b[1;32mIn [118]\u001b[1;36m\u001b[0m\n\u001b[1;33m    return (3,1,\"E\")# location tuple (3,1,E)\u001b[0m\n\u001b[1;37m    ^\u001b[0m\n\u001b[1;31mIndentationError\u001b[0m\u001b[1;31m:\u001b[0m expected an indented block after 'for' statement on line 14\n"
     ]
    }
   ],
   "source": [
    "def irobot(command,location):\n",
    "    \"\"\"\n",
    "    Args:\n",
    "        param1: command: str   command has to be excute :  MMSMMNNMME\n",
    "        param2: location: tuple  location tuple ex- (2,3,N)\n",
    "        \n",
    "    return: \n",
    "        location: tuple ex- (3,2,N)\n",
    "        \n",
    "    \"\"\"\n",
    "    column = 5\n",
    "    row = 4\n",
    "    for colum in range(column):\n",
    "        for ro in range(row):\n",
    "            \n",
    "    \n",
    "    \n",
    "    return (3,1,\"E\")# location tuple (3,1,E)"
   ]
  },
  {
   "cell_type": "code",
   "execution_count": 7,
   "metadata": {},
   "outputs": [
    {
     "name": "stdout",
     "output_type": "stream",
     "text": [
      "0\n",
      "1\n",
      "2\n",
      "3\n"
     ]
    }
   ],
   "source": [
    "c=5\n",
    "r=4\n",
    "\n",
    "for i in range(r):\n",
    "    print(i)"
   ]
  },
  {
   "cell_type": "code",
   "execution_count": 14,
   "metadata": {},
   "outputs": [
    {
     "ename": "TypeError",
     "evalue": "'str' object is not an iterator",
     "output_type": "error",
     "traceback": [
      "\u001b[1;31m---------------------------------------------------------------------------\u001b[0m",
      "\u001b[1;31mTypeError\u001b[0m                                 Traceback (most recent call last)",
      "Input \u001b[1;32mIn [14]\u001b[0m, in \u001b[0;36m<cell line: 6>\u001b[1;34m()\u001b[0m\n\u001b[0;32m      4\u001b[0m row \u001b[38;5;241m=\u001b[39m \u001b[38;5;241m4\u001b[39m\n\u001b[0;32m      5\u001b[0m node \u001b[38;5;241m=\u001b[39m ()\n\u001b[1;32m----> 6\u001b[0m loc \u001b[38;5;241m=\u001b[39m \u001b[38;5;28;43mnext\u001b[39;49m\u001b[43m(\u001b[49m\u001b[43mlocation\u001b[49m\u001b[43m)\u001b[49m\n\u001b[0;32m      7\u001b[0m \u001b[38;5;28;01mif\u001b[39;00m loc \u001b[38;5;241m==\u001b[39m \u001b[38;5;124m\"\u001b[39m\u001b[38;5;124mn\u001b[39m\u001b[38;5;124m\"\u001b[39m:\n\u001b[0;32m      8\u001b[0m     \u001b[38;5;28mprint\u001b[39m(\u001b[38;5;124m\"\u001b[39m\u001b[38;5;124mnorth\u001b[39m\u001b[38;5;124m\"\u001b[39m)\n",
      "\u001b[1;31mTypeError\u001b[0m: 'str' object is not an iterator"
     ]
    }
   ],
   "source": [
    "comand = (2,3)\n",
    "location = \"emmsn\"\n",
    "column = 5\n",
    "row = 4\n",
    "node = ()\n",
    "loc = next(location)\n",
    "if loc == \"n\":\n",
    "    \n",
    "    print(\"north\")\n",
    "elif loc == \"s\":\n",
    "    print(\"south\")\n",
    "elif loc == \"e\":\n",
    "    print(\"east\")\n",
    "elif loc == \"w\":\n",
    "    print(\"west\")\n",
    "        \n",
    "        "
   ]
  },
  {
   "cell_type": "raw",
   "metadata": {},
   "source": [
    "    0   1    2     3     4\n",
    "\n",
    "0   *   *    *     *     *\n",
    "\n",
    "1   *   *    *     *     *\n",
    "\n",
    "2   *   *    *     *     *\n",
    " \n",
    "3   *   *    *     *     *"
   ]
  },
  {
   "cell_type": "code",
   "execution_count": null,
   "metadata": {},
   "outputs": [],
   "source": []
  },
  {
   "cell_type": "code",
   "execution_count": null,
   "metadata": {},
   "outputs": [],
   "source": [
    "list1 = [\"a,\"b,\"c\"]\n",
    "output= 0,a\n",
    "        1,b\n",
    "        2,c\n",
    "        \n",
    "\n",
    "        "
   ]
  },
  {
   "cell_type": "code",
   "execution_count": 22,
   "metadata": {},
   "outputs": [
    {
     "name": "stdout",
     "output_type": "stream",
     "text": [
      "(0, 'a')\n",
      "(1, 'b')\n",
      "(2, 'c')\n"
     ]
    }
   ],
   "source": [
    "list1 = [\"a\",\"b\",\"c\"]\n",
    "aa = len(list1)\n",
    "list2 = []\n",
    "for ele in range(aa):\n",
    "    list2.append((ele,list1[ele]))\n",
    "list2\n",
    "for i in list2:\n",
    "    print(i)\n",
    "    \n",
    "    \n",
    "    "
   ]
  },
  {
   "cell_type": "code",
   "execution_count": null,
   "metadata": {},
   "outputs": [],
   "source": []
  },
  {
   "cell_type": "raw",
   "metadata": {},
   "source": [
    "Q. wap list sorted on given list"
   ]
  },
  {
   "cell_type": "code",
   "execution_count": 3,
   "metadata": {},
   "outputs": [
    {
     "name": "stdout",
     "output_type": "stream",
     "text": [
      "[3, 6, 9, 34, 56, 90, 95]\n"
     ]
    }
   ],
   "source": [
    "list1 = [90,34,6,3,95,56,9]\n",
    "new_list = []\n",
    "\n",
    "while list1:\n",
    "    hold_value = list1[0]\n",
    "    for ele in list1:\n",
    "        if hold_value > ele :\n",
    "            hold_value = ele\n",
    "    new_list.append(hold_value)\n",
    "    list1.remove(hold_value)\n",
    "    \n",
    "print(new_list)"
   ]
  },
  {
   "cell_type": "code",
   "execution_count": 3,
   "metadata": {},
   "outputs": [
    {
     "name": "stdout",
     "output_type": "stream",
     "text": [
      "1\n",
      "2\n",
      "3\n",
      "4\n",
      "[1, 2, 3, 4, 5]\n"
     ]
    }
   ],
   "source": [
    "a = [3, 1, 5, 2, 4]\n",
    "\n",
    "for i in a[1:]:\n",
    "    j = a.index(i)\n",
    "    print(j)\n",
    "    while j > 0 and a[j-1] > a[j]:\n",
    "        a[j], a[j-1] = a[j-1], a[j]\n",
    "        j = j - 1\n",
    "print(a)"
   ]
  },
  {
   "cell_type": "code",
   "execution_count": null,
   "metadata": {},
   "outputs": [],
   "source": []
  },
  {
   "cell_type": "code",
   "execution_count": 2,
   "metadata": {},
   "outputs": [
    {
     "name": "stdout",
     "output_type": "stream",
     "text": [
      "[6, 23, 45, 54, 56, 90]\n"
     ]
    }
   ],
   "source": [
    "#    sorted list\n",
    "\n",
    "list21 = [54,6,23,90,56,45]\n",
    "\n",
    "new = []\n",
    "\n",
    "while list21:\n",
    "    hold = list21[0]\n",
    "    for ele in list21:\n",
    "        if ele < hold :\n",
    "            hold = ele\n",
    "            \n",
    "    new.append(hold)\n",
    "    list21.remove(hold)\n",
    "print(new)"
   ]
  },
  {
   "cell_type": "code",
   "execution_count": 121,
   "metadata": {},
   "outputs": [
    {
     "name": "stdout",
     "output_type": "stream",
     "text": [
      "[6, 23, 45, 54, 56, 90]\n"
     ]
    }
   ],
   "source": [
    "list21 = [54,6,23,90,56,45]\n",
    "\n",
    "list21.sort()\n",
    "print(list21)"
   ]
  },
  {
   "cell_type": "code",
   "execution_count": null,
   "metadata": {},
   "outputs": [],
   "source": []
  },
  {
   "cell_type": "raw",
   "metadata": {},
   "source": [
    "Q. wap given 2 list solve this \n",
    "\n",
    "Exa : \n",
    "    input : list1 = [12,5,8,4]\n",
    "            list2 = [43,8,7,2]\n",
    "            \n",
    "    output : \n",
    "            (12,43),(5,8),(8,7),(4,2)"
   ]
  },
  {
   "cell_type": "code",
   "execution_count": 15,
   "metadata": {},
   "outputs": [
    {
     "name": "stdout",
     "output_type": "stream",
     "text": [
      "(12, 43)\n",
      "(5, 8)\n",
      "(8, 7)\n",
      "(4, 2)\n"
     ]
    }
   ],
   "source": [
    "list1 = [12,5,8,4]\n",
    "list2 = [43,8,7,2]\n",
    "list_new = []\n",
    "for ele in range (len(list1)):\n",
    "    list_new.append((list1[ele],list2[ele]))\n",
    "for new in list_new:\n",
    "    print(new)\n",
    "    "
   ]
  },
  {
   "cell_type": "raw",
   "metadata": {},
   "source": [
    "Q. given dict fatch all keys\n",
    "\n",
    "thisdict = {\n",
    "  \"brand\": \"Ford\",\n",
    "  \"model\": \"Mustang\",\n",
    "  \"year\": 1964\n",
    "}"
   ]
  },
  {
   "cell_type": "code",
   "execution_count": 21,
   "metadata": {},
   "outputs": [
    {
     "name": "stdout",
     "output_type": "stream",
     "text": [
      "brand\n",
      "model\n",
      "year\n",
      "dict_keys(['brand', 'model', 'year'])\n"
     ]
    }
   ],
   "source": [
    "thisdict = {\n",
    "  \"brand\": \"Ford\",\n",
    "  \"model\": \"Mustang\",\n",
    "  \"year\": 1964\n",
    "}\n",
    "\n",
    "for key in thisdict.keys():\n",
    "    print(key)\n",
    "    \n",
    "#other thinks \n",
    "\n",
    "print(thisdict.keys())"
   ]
  },
  {
   "cell_type": "raw",
   "metadata": {},
   "source": [
    "Q. given a dict fatch all values \n",
    "\n",
    "thisdict = {\n",
    "  \"brand\": \"Ford\",\n",
    "  \"model\": \"Mustang\",\n",
    "  \"year\": 1964\n",
    "}"
   ]
  },
  {
   "cell_type": "code",
   "execution_count": 25,
   "metadata": {},
   "outputs": [
    {
     "name": "stdout",
     "output_type": "stream",
     "text": [
      "Ford\n",
      "Mustang\n",
      "1964\n",
      "dict_values(['Ford', 'Mustang', 1964])\n"
     ]
    }
   ],
   "source": [
    "thisdict = {\n",
    "  \"brand\": \"Ford\",\n",
    "  \"model\": \"Mustang\",\n",
    "  \"year\": 1964\n",
    "}\n",
    "\n",
    "\n",
    "for value in thisdict.values():\n",
    "    print(value)\n",
    "    \n",
    "    \n",
    "# other thiks \n",
    "\n",
    "print(thisdict.values())"
   ]
  },
  {
   "cell_type": "code",
   "execution_count": null,
   "metadata": {},
   "outputs": [],
   "source": []
  },
  {
   "cell_type": "code",
   "execution_count": 44,
   "metadata": {},
   "outputs": [
    {
     "name": "stdout",
     "output_type": "stream",
     "text": [
      "Mustang\n"
     ]
    }
   ],
   "source": [
    "thisdict = {\n",
    "  \"brand\": \"Ford\",\n",
    "  \"model\": \"Mustang\",\n",
    "  \"year\": 1964\n",
    "}\n",
    "\n",
    "print(thisdict[\"model\"])"
   ]
  },
  {
   "cell_type": "code",
   "execution_count": null,
   "metadata": {},
   "outputs": [],
   "source": []
  },
  {
   "cell_type": "raw",
   "metadata": {},
   "source": [
    "Q. wap given a dict so sorted dict value\n",
    "\n",
    "input : \n",
    "    dict1 = {\"hindi\":45,\"english\":89,\"math\":20,\"scince\":76}\n",
    "    \n",
    "output :\n",
    "            {\"math\":20,\"hindi\":45,\"scince\":76,\"english\":89}"
   ]
  },
  {
   "cell_type": "code",
   "execution_count": 8,
   "metadata": {},
   "outputs": [
    {
     "name": "stdout",
     "output_type": "stream",
     "text": [
      "hindi\n",
      "english\n",
      "english\n",
      "english\n",
      "scince\n",
      "scince\n",
      "{'hindi': 45, 'english': 89, 'math': 20, 'scince': 76}\n"
     ]
    }
   ],
   "source": [
    "dict1 = {\"hindi\":45,\"english\":89,\"math\":20,\"scince\":76}\n",
    "dict2 = {}\n",
    "for key in dict1.keys():\n",
    "    for ele in dict1:\n",
    "        if dict1[key] > dict1[ele]:\n",
    "            print(key)\n",
    "    dict2[key] = dict1[key]\n",
    "print(dict2)"
   ]
  },
  {
   "cell_type": "code",
   "execution_count": null,
   "metadata": {},
   "outputs": [],
   "source": []
  },
  {
   "cell_type": "markdown",
   "metadata": {},
   "source": [
    "# Q . Functions arguments Questions "
   ]
  },
  {
   "cell_type": "raw",
   "metadata": {},
   "source": [
    "practice *kwargs"
   ]
  },
  {
   "cell_type": "code",
   "execution_count": 34,
   "metadata": {},
   "outputs": [
    {
     "name": "stdout",
     "output_type": "stream",
     "text": [
      "('vicky', 567890, 'dfghjk')\n",
      "vicky\n",
      "567890\n",
      "dfghjk\n"
     ]
    }
   ],
   "source": [
    "def name (*kwargs):\n",
    "    print(kwargs)\n",
    "    for valu in kwargs:\n",
    "        print(valu)\n",
    "    \n",
    "name(\"vicky\",567890,\"dfghjk\")"
   ]
  },
  {
   "cell_type": "code",
   "execution_count": 35,
   "metadata": {},
   "outputs": [
    {
     "name": "stdout",
     "output_type": "stream",
     "text": [
      "('vicky', 567890, 'dfghjk')\n",
      "vicky\n",
      "567890\n",
      "dfghjk\n"
     ]
    }
   ],
   "source": [
    "# change argument name \n",
    "\n",
    "def name (*ramu):\n",
    "    print(ramu)\n",
    "    for valu in ramu:\n",
    "        print(valu)\n",
    "    \n",
    "name(\"vicky\",567890,\"dfghjk\")"
   ]
  },
  {
   "cell_type": "code",
   "execution_count": 36,
   "metadata": {},
   "outputs": [
    {
     "ename": "SyntaxError",
     "evalue": "named arguments must follow bare * (2323925123.py, line 3)",
     "output_type": "error",
     "traceback": [
      "\u001b[1;36m  Input \u001b[1;32mIn [36]\u001b[1;36m\u001b[0m\n\u001b[1;33m    def name (*):\u001b[0m\n\u001b[1;37m              ^\u001b[0m\n\u001b[1;31mSyntaxError\u001b[0m\u001b[1;31m:\u001b[0m named arguments must follow bare *\n"
     ]
    }
   ],
   "source": [
    "# without arguments name\n",
    "\n",
    "def name (*):\n",
    "    print(*)\n",
    "    for valu in *:\n",
    "        print(valu)\n",
    "    \n",
    "name(\"vicky\",567890,\"dfghjk\")"
   ]
  },
  {
   "cell_type": "code",
   "execution_count": 37,
   "metadata": {},
   "outputs": [
    {
     "ename": "SyntaxError",
     "evalue": "positional argument follows keyword argument (2839551877.py, line 9)",
     "output_type": "error",
     "traceback": [
      "\u001b[1;36m  Input \u001b[1;32mIn [37]\u001b[1;36m\u001b[0m\n\u001b[1;33m    name(names=\"vicky\",567890,\"dfghjk\")\u001b[0m\n\u001b[1;37m                                      ^\u001b[0m\n\u001b[1;31mSyntaxError\u001b[0m\u001b[1;31m:\u001b[0m positional argument follows keyword argument\n"
     ]
    }
   ],
   "source": [
    "# call time mainetion variable name\n",
    "    \n",
    "    \n",
    "def name (*ramu):\n",
    "    print(ramu)\n",
    "    for valu in ramu:\n",
    "        print(valu)\n",
    "    \n",
    "name(names=\"vicky\",567890,\"dfghjk\")"
   ]
  },
  {
   "cell_type": "code",
   "execution_count": null,
   "metadata": {},
   "outputs": [],
   "source": []
  },
  {
   "cell_type": "markdown",
   "metadata": {},
   "source": [
    "# Practice ** kwargs arguments"
   ]
  },
  {
   "cell_type": "code",
   "execution_count": 39,
   "metadata": {},
   "outputs": [
    {
     "ename": "TypeError",
     "evalue": "name() takes 0 positional arguments but 3 were given",
     "output_type": "error",
     "traceback": [
      "\u001b[1;31m---------------------------------------------------------------------------\u001b[0m",
      "\u001b[1;31mTypeError\u001b[0m                                 Traceback (most recent call last)",
      "Input \u001b[1;32mIn [39]\u001b[0m, in \u001b[0;36m<cell line: 8>\u001b[1;34m()\u001b[0m\n\u001b[0;32m      5\u001b[0m     \u001b[38;5;28;01mfor\u001b[39;00m valu \u001b[38;5;129;01min\u001b[39;00m ramu:\n\u001b[0;32m      6\u001b[0m         \u001b[38;5;28mprint\u001b[39m(valu)\n\u001b[1;32m----> 8\u001b[0m \u001b[43mname\u001b[49m\u001b[43m(\u001b[49m\u001b[38;5;124;43m\"\u001b[39;49m\u001b[38;5;124;43mvicky\u001b[39;49m\u001b[38;5;124;43m\"\u001b[39;49m\u001b[43m,\u001b[49m\u001b[38;5;241;43m567890\u001b[39;49m\u001b[43m,\u001b[49m\u001b[38;5;124;43m\"\u001b[39;49m\u001b[38;5;124;43mdfghjk\u001b[39;49m\u001b[38;5;124;43m\"\u001b[39;49m\u001b[43m)\u001b[49m\n",
      "\u001b[1;31mTypeError\u001b[0m: name() takes 0 positional arguments but 3 were given"
     ]
    }
   ],
   "source": [
    "# withuot maintion variable names\n",
    "\n",
    "def name (**ramu):\n",
    "    print(ramu)\n",
    "    for valu in ramu:\n",
    "        print(valu)\n",
    "    \n",
    "name(\"vicky\",567890,\"dfghjk\")"
   ]
  },
  {
   "cell_type": "code",
   "execution_count": 41,
   "metadata": {},
   "outputs": [
    {
     "name": "stdout",
     "output_type": "stream",
     "text": [
      "{'names': 'vicky', 'no': 567890, 'address': 'jaipur'}\n",
      "names\n",
      "no\n",
      "address\n"
     ]
    }
   ],
   "source": [
    "def name (**ramu):\n",
    "    print(ramu)       # this is a dict format\n",
    "    for valu in ramu:\n",
    "        print(valu)\n",
    "    \n",
    "name(names=\"vicky\",no=567890,address=\"jaipur\") "
   ]
  },
  {
   "cell_type": "code",
   "execution_count": 46,
   "metadata": {},
   "outputs": [
    {
     "name": "stdout",
     "output_type": "stream",
     "text": [
      "567890\n",
      "jaipur\n",
      "vicky\n"
     ]
    }
   ],
   "source": [
    "def name (**ramu):\n",
    "    print(ramu[\"no\"])\n",
    "    print(ramu[\"address\"])\n",
    "    print(ramu[\"names\"])\n",
    "    \n",
    "name(names=\"vicky\",no=567890,address=\"jaipur\") "
   ]
  },
  {
   "cell_type": "code",
   "execution_count": 15,
   "metadata": {},
   "outputs": [
    {
     "name": "stdout",
     "output_type": "stream",
     "text": [
      "[1, 2, 3]\n"
     ]
    }
   ],
   "source": [
    "a=3\n",
    "b=[1,2,a]\n",
    "print(b)\n",
    "a=7\n",
    "\n",
    "\n",
    "# b=[1,2,a]\n",
    "# print(b)\n"
   ]
  },
  {
   "cell_type": "code",
   "execution_count": 16,
   "metadata": {},
   "outputs": [],
   "source": [
    "# this question solve\n",
    "\n",
    "# 0:50\n",
    "# 1:51 \n",
    "# 2:52 \n",
    "# 3:53 \n",
    "# . \n",
    "# . \n",
    "# . \n",
    "# . \n",
    "# 49:99"
   ]
  },
  {
   "cell_type": "code",
   "execution_count": 11,
   "metadata": {},
   "outputs": [
    {
     "name": "stdout",
     "output_type": "stream",
     "text": [
      "1 50\n",
      "2 51\n",
      "3 52\n",
      "4 53\n",
      "5 54\n",
      "6 55\n",
      "7 56\n",
      "8 57\n",
      "9 58\n",
      "10 59\n",
      "11 60\n",
      "12 61\n",
      "13 62\n",
      "14 63\n",
      "15 64\n",
      "16 65\n",
      "17 66\n",
      "18 67\n",
      "19 68\n",
      "20 69\n",
      "21 70\n",
      "22 71\n",
      "23 72\n",
      "24 73\n",
      "25 74\n",
      "26 75\n",
      "27 76\n",
      "28 77\n",
      "29 78\n",
      "30 79\n",
      "31 80\n",
      "32 81\n",
      "33 82\n",
      "34 83\n",
      "35 84\n",
      "36 85\n",
      "37 86\n",
      "38 87\n",
      "39 88\n",
      "40 89\n",
      "41 90\n",
      "42 91\n",
      "43 92\n",
      "44 93\n",
      "45 94\n",
      "46 95\n",
      "47 96\n",
      "48 97\n",
      "49 98\n",
      "50 99\n"
     ]
    }
   ],
   "source": [
    "a = 0\n",
    "while a <= 1 :\n",
    "    for ele in range(50,100):\n",
    "        a += 1\n",
    "        print(a,ele)\n",
    "        "
   ]
  },
  {
   "cell_type": "raw",
   "metadata": {},
   "source": [
    "Q. wap given string reverse words then reverse\n",
    "\n",
    "input: \"Welcome to Python!\" \n",
    "\n",
    "output: \"emocleW ot !nohtyP\""
   ]
  },
  {
   "cell_type": "code",
   "execution_count": 122,
   "metadata": {},
   "outputs": [
    {
     "name": "stdout",
     "output_type": "stream",
     "text": [
      "!nohtyP ot emocleW\n",
      "emocleW ot !nohtyP\n"
     ]
    }
   ],
   "source": [
    "str21 = \"Welcome to Python!\"\n",
    "\n",
    "rev = str21[-1::-1]\n",
    "print(rev)\n",
    "spl = rev.split()\n",
    "#print(spl)\n",
    "spl.reverse()\n",
    "#print(spl)\n",
    "result = \" \".join(spl)\n",
    "print(result)"
   ]
  },
  {
   "cell_type": "code",
   "execution_count": null,
   "metadata": {},
   "outputs": [],
   "source": []
  },
  {
   "cell_type": "raw",
   "metadata": {},
   "source": [
    "Q. wap solve str problem\n",
    "\n",
    "\n",
    "str1 = \"000009200.00016800.00100.0000/24\" \n",
    "\n",
    "Output \n",
    "ip: 9200.16800.100.0 \n",
    "mask: 24\n"
   ]
  },
  {
   "cell_type": "code",
   "execution_count": 42,
   "metadata": {},
   "outputs": [
    {
     "name": "stdout",
     "output_type": "stream",
     "text": [
      "['000009200', '00016800', '00100', '0000/24']\n",
      "00000920000016800001000000/24\n"
     ]
    }
   ],
   "source": [
    "str1 = \"000009200.00016800.00100.0000/24\"\n",
    "\n",
    "str2 = \"\"\n",
    "\n",
    "# split_str1 = str1.split(\"/\")\n",
    "# #print(split_str1)\n",
    "# marks = split_str1[-1:]\n",
    "# #print(type(marks))\n",
    "# split_str11 = str1.split(\".\")\n",
    "# print(split_str11)\n",
    "# for ele in split_str11:\n",
    "#     for inde in ele:\n",
    "#         if inde > \"0\":\n",
    "#             str2 += inde\n",
    "#         else:\n",
    "#             str2\n",
    "# print(str2)\n",
    "\n",
    "\n"
   ]
  },
  {
   "cell_type": "code",
   "execution_count": null,
   "metadata": {},
   "outputs": [],
   "source": []
  },
  {
   "cell_type": "markdown",
   "metadata": {},
   "source": [
    "# Python flatten list of list"
   ]
  },
  {
   "cell_type": "code",
   "execution_count": 101,
   "metadata": {},
   "outputs": [],
   "source": [
    "input1=[1,2,[3, 4,[5, 6],7],8,[9,10],[11,12,[13,14]]] \n",
    "# output=[1, 2, 3, 4, 5, 6, 7, 8, 9, 10, 11, 12, 13, 14]\n"
   ]
  },
  {
   "cell_type": "code",
   "execution_count": 70,
   "metadata": {},
   "outputs": [
    {
     "name": "stdout",
     "output_type": "stream",
     "text": [
      "[1, 2, 3]\n",
      "[4, 5, 6]\n",
      "[7, 8, 9]\n",
      "[1, 2, 3, 4, 5, 6, 7, 8, 9]\n"
     ]
    }
   ],
   "source": [
    "list_of_lists = [[1,2, 3], [4, 5, 6], [7, 8, 9]]\n",
    "\n",
    "flat_list = []\n",
    "\n",
    "for sub_list in list_of_lists:\n",
    "    print(sub_list)\n",
    "    flat_list += sub_list\n",
    "\n",
    "print(flat_list)"
   ]
  },
  {
   "cell_type": "code",
   "execution_count": null,
   "metadata": {},
   "outputs": [],
   "source": []
  },
  {
   "cell_type": "code",
   "execution_count": 102,
   "metadata": {},
   "outputs": [
    {
     "name": "stdout",
     "output_type": "stream",
     "text": [
      "[1, 2, 3, 4, 5, 6, 7, 8, 9]\n"
     ]
    }
   ],
   "source": [
    "list11 = [[1,2, 3], [4, 5, 6], [7, 8, 9]]\n",
    "new = [item for sub in list11 for item in sub]\n",
    "print(new)"
   ]
  },
  {
   "cell_type": "code",
   "execution_count": null,
   "metadata": {},
   "outputs": [],
   "source": []
  },
  {
   "cell_type": "code",
   "execution_count": 67,
   "metadata": {},
   "outputs": [
    {
     "name": "stdout",
     "output_type": "stream",
     "text": [
      "[[4, 34, 5], [3, 6, 3]]\n"
     ]
    }
   ],
   "source": [
    "aa = [] \n",
    "aa += [4,34,5],[3,6,3]\n",
    "print(aa)"
   ]
  },
  {
   "cell_type": "code",
   "execution_count": 100,
   "metadata": {},
   "outputs": [
    {
     "name": "stdout",
     "output_type": "stream",
     "text": [
      "[1, 2, 3, 4, 5, 6, 7, 8, 9, 10]\n"
     ]
    }
   ],
   "source": [
    "input1=[1,2,[3, 4],5,6,[7,8],9,10]\n",
    "new = []\n",
    "\n",
    "for ele in input1: \n",
    "    if str(ele).isdigit():\n",
    "        new += [ele]\n",
    "\n",
    "    else:\n",
    "        new += ele\n",
    "print(new)\n",
    "\n"
   ]
  },
  {
   "cell_type": "code",
   "execution_count": 147,
   "metadata": {},
   "outputs": [],
   "source": [
    "listw = [3,5,4,3]\n",
    "\n",
    "if listw == []:\n",
    "    print(\"name\")"
   ]
  },
  {
   "cell_type": "code",
   "execution_count": null,
   "metadata": {},
   "outputs": [],
   "source": []
  },
  {
   "cell_type": "code",
   "execution_count": 146,
   "metadata": {},
   "outputs": [
    {
     "name": "stdout",
     "output_type": "stream",
     "text": [
      "[1, 2, 3, 4, 5, 67, 90, 58, 56, 98, 98, 35, 6, 7, 8]\n"
     ]
    }
   ],
   "source": [
    "# input1=[1,2,[3, 4,[5, 6],7],8,[9,10],[11,12,[13,[14,15,16]]] \n",
    "list_of_lists = [ [2, 3], [4, [5,[67,90,[58,56,98,[98,35]]], 6]], [7, 8]]\n",
    "def funct(list_of_lists,new=[1]):\n",
    "    if new == []:\n",
    "        return new\n",
    "    else:\n",
    "        for i in list_of_lists:\n",
    "            if type(i) == list:\n",
    "                funct(i)\n",
    "            else:\n",
    "                new.append(i)\n",
    "    return new\n",
    "result = funct(list_of_lists)\n",
    "print(result)"
   ]
  },
  {
   "cell_type": "markdown",
   "metadata": {},
   "source": [
    "Explaine the code small part"
   ]
  },
  {
   "cell_type": "code",
   "execution_count": 155,
   "metadata": {},
   "outputs": [
    {
     "name": "stdout",
     "output_type": "stream",
     "text": [
      "gg\n",
      "gg\n",
      "gg\n",
      "gg\n",
      "gg\n"
     ]
    }
   ],
   "source": [
    "list232 = [23,58,94,844,44]\n",
    "for ele in list232:\n",
    "    if type([]) == list: # type function use check type your contant\n",
    "        print(\"gg\")\n",
    "    "
   ]
  },
  {
   "cell_type": "code",
   "execution_count": 2,
   "metadata": {},
   "outputs": [],
   "source": [
    "# How much experience do you have in Internet of Things (IOT)"
   ]
  },
  {
   "cell_type": "code",
   "execution_count": null,
   "metadata": {},
   "outputs": [],
   "source": []
  },
  {
   "cell_type": "code",
   "execution_count": 17,
   "metadata": {},
   "outputs": [
    {
     "data": {
      "text/plain": [
       "[2, 3, 4, 5, 6]"
      ]
     },
     "execution_count": 17,
     "metadata": {},
     "output_type": "execute_result"
    }
   ],
   "source": [
    "# example for decorator in python\n",
    "\n",
    "\n",
    "\n",
    "def squire(func):\n",
    "    def inner():\n",
    "        result = [2,3,4,5,6]\n",
    "        return result\n",
    "    return inner\n",
    "@squire\n",
    "def result():\n",
    "    print(\"ram\")\n",
    "    \n",
    "    \n",
    "    \n",
    "result()\n",
    "\n",
    "        "
   ]
  },
  {
   "cell_type": "code",
   "execution_count": 11,
   "metadata": {},
   "outputs": [
    {
     "name": "stdout",
     "output_type": "stream",
     "text": [
      "<function dec.<locals>.inner at 0x000001F18D879CF0>\n"
     ]
    }
   ],
   "source": [
    "def dec(func,*args):\n",
    "    def inner():\n",
    "        list1 = []\n",
    "        for i in args:\n",
    "            list1.append(i**2)\n",
    "        return list1\n",
    "    return inner\n",
    "            \n",
    "    \n",
    "@dec\n",
    "def func():\n",
    "    result = [1,2,3,4,5]\n",
    "    return result\n",
    "result = [1,2,3,4,5]\n",
    "ss = dec(result)\n",
    "print(ss)\n"
   ]
  },
  {
   "cell_type": "code",
   "execution_count": 6,
   "metadata": {},
   "outputs": [
    {
     "name": "stdout",
     "output_type": "stream",
     "text": [
      "[1, 2, 3]\n"
     ]
    }
   ],
   "source": [
    "def k (*args):\n",
    "    for i in args:\n",
    "        print(i)\n",
    "k([1,2,3])"
   ]
  },
  {
   "cell_type": "code",
   "execution_count": null,
   "metadata": {},
   "outputs": [],
   "source": []
  },
  {
   "cell_type": "code",
   "execution_count": null,
   "metadata": {},
   "outputs": [],
   "source": []
  },
  {
   "cell_type": "code",
   "execution_count": 3,
   "metadata": {},
   "outputs": [],
   "source": [
    "a = {\n",
    "  \"type\": \"group\",\n",
    "  \"id\": \"9a99988a-0123-4456-b89a-b1607f326fd8\",\n",
    "  \"children1\": {\n",
    "    \"a98ab9b9-cdef-4012-b456-71607f326fd9\": {\n",
    "      \"type\": \"rule\",\n",
    "      \"properties\": {\n",
    "        \"field\": \"user.login\",\n",
    "        \"operator\": \"equal\",\n",
    "        \"value\": [\n",
    "          \"batman\"\n",
    "        ],\n",
    "        \"valueSrc\": [\n",
    "          \"value\"\n",
    "        ],\n",
    "        \"valueType\": [\n",
    "          \"text\"\n",
    "        ]\n",
    "      }\n",
    "    },\n",
    "    \"98a8a9ba-0123-4456-b89a-b16e721c8cd0\": {\n",
    "      \"type\": \"rule\",\n",
    "      \"properties\": {\n",
    "        \"field\": \"stock\",\n",
    "        \"operator\": \"equal\",\n",
    "        \"value\": [\n",
    "          \"false\"\n",
    "        ],\n",
    "        \"valueSrc\": [\n",
    "          \"value\"\n",
    "        ],\n",
    "        \"valueType\": [\n",
    "          \"boolean\"\n",
    "        ]\n",
    "      }\n",
    "    },\n",
    "    \"aabbab8a-cdef-4012-b456-716e85c65e9c\": {\n",
    "      \"type\": \"rule\",\n",
    "      \"properties\": {\n",
    "        \"field\": \"slider\",\n",
    "        \"operator\": \"equal\",\n",
    "        \"value\": [\n",
    "          35\n",
    "        ],\n",
    "        \"valueSrc\": [\n",
    "          \"value\"\n",
    "        ],\n",
    "        \"valueType\": [\n",
    "          \"number\"\n",
    "        ]\n",
    "      }\n",
    "    },\n",
    "    \"8b89a9bb-cdef-4012-b456-71838807cb00\": {\n",
    "      \"type\": \"group\",\n",
    "      \"properties\": {\n",
    "        \"conjunction\": \"OR\",\n",
    "        \"not\": \"false\"\n",
    "      },\n",
    "      \"children1\": {\n",
    "        \"999ab8aa-89ab-4cde-b012-31838807cb01\": {\n",
    "          \"type\": \"rule\",\n",
    "          \"properties\": {\n",
    "            \"field\": \"num\",\n",
    "            \"operator\": \"equal\",\n",
    "            \"value\": [\n",
    "              5\n",
    "            ],\n",
    "            \"valueSrc\": [\n",
    "              \"value\"\n",
    "            ],\n",
    "            \"valueType\": [\n",
    "              \"number\"\n",
    "            ]\n",
    "          }\n",
    "        },\n",
    "        \"98a88ab8-4567-489a-bcde-f1838807ed63\": {\n",
    "          \"type\": \"rule\",\n",
    "          \"properties\": {\n",
    "            \"field\": \"color\",\n",
    "            \"operator\": \"select_equals\",\n",
    "            \"value\": [\n",
    "              \"green\"\n",
    "            ],\n",
    "            \"valueSrc\": [\n",
    "              \"value\"\n",
    "            ],\n",
    "            \"valueType\": [\n",
    "              \"select\"\n",
    "            ]\n",
    "          }\n",
    "        }\n",
    "      }\n",
    "    }\n",
    "  },\n",
    "  \"properties\": {\n",
    "    \"conjunction\": \"AND\",\n",
    "    \"not\": \"true\"\n",
    "  }\n",
    "}"
   ]
  },
  {
   "cell_type": "code",
   "execution_count": 4,
   "metadata": {},
   "outputs": [
    {
     "name": "stdout",
     "output_type": "stream",
     "text": [
      "{'field': 'user.login', 'operator': 'equal', 'value': ['batman'], 'valueSrc': ['value'], 'valueType': ['text']}\n"
     ]
    }
   ],
   "source": [
    "print(a[\"children1\"]['a98ab9b9-cdef-4012-b456-71607f326fd9']['properties'])"
   ]
  },
  {
   "cell_type": "code",
   "execution_count": 5,
   "metadata": {},
   "outputs": [
    {
     "data": {
      "text/plain": [
       "['user.login']"
      ]
     },
     "execution_count": 5,
     "metadata": {},
     "output_type": "execute_result"
    }
   ],
   "source": [
    "list1 = []\n",
    "for key in a.keys():\n",
    "    #print(key)\n",
    "    if key == \"children1\":\n",
    "       # print(a[key])\n",
    "        for key1 in a[key]['a98ab9b9-cdef-4012-b456-71607f326fd9']:\n",
    "           # print(key1)\n",
    "            if key1 == \"properties\":\n",
    "                for key2 in a[key]['a98ab9b9-cdef-4012-b456-71607f326fd9']['properties']:\n",
    "                    if key2 == \"field\":\n",
    "                       # print(key2)\n",
    "                       # print(a[\"children1\"]['a98ab9b9-cdef-4012-b456-71607f326fd9']['properties'][key2])\n",
    "                        list1.append(a[\"children1\"]['a98ab9b9-cdef-4012-b456-71607f326fd9']['properties'][key2])\n",
    "list1       "
   ]
  },
  {
   "cell_type": "code",
   "execution_count": null,
   "metadata": {},
   "outputs": [],
   "source": []
  },
  {
   "cell_type": "code",
   "execution_count": 6,
   "metadata": {},
   "outputs": [
    {
     "data": {
      "text/plain": [
       "{'a98ab9b9-cdef-4012-b456-71607f326fd9': {'type': 'rule',\n",
       "  'properties': {'field': 'user.login',\n",
       "   'operator': 'equal',\n",
       "   'value': ['batman'],\n",
       "   'valueSrc': ['value'],\n",
       "   'valueType': ['text']}},\n",
       " '98a8a9ba-0123-4456-b89a-b16e721c8cd0': {'type': 'rule',\n",
       "  'properties': {'field': 'stock',\n",
       "   'operator': 'equal',\n",
       "   'value': ['false'],\n",
       "   'valueSrc': ['value'],\n",
       "   'valueType': ['boolean']}},\n",
       " 'aabbab8a-cdef-4012-b456-716e85c65e9c': {'type': 'rule',\n",
       "  'properties': {'field': 'slider',\n",
       "   'operator': 'equal',\n",
       "   'value': [35],\n",
       "   'valueSrc': ['value'],\n",
       "   'valueType': ['number']}},\n",
       " '8b89a9bb-cdef-4012-b456-71838807cb00': {'type': 'group',\n",
       "  'properties': {'conjunction': 'OR', 'not': 'false'},\n",
       "  'children1': {'999ab8aa-89ab-4cde-b012-31838807cb01': {'type': 'rule',\n",
       "    'properties': {'field': 'num',\n",
       "     'operator': 'equal',\n",
       "     'value': [5],\n",
       "     'valueSrc': ['value'],\n",
       "     'valueType': ['number']}},\n",
       "   '98a88ab8-4567-489a-bcde-f1838807ed63': {'type': 'rule',\n",
       "    'properties': {'field': 'color',\n",
       "     'operator': 'select_equals',\n",
       "     'value': ['green'],\n",
       "     'valueSrc': ['value'],\n",
       "     'valueType': ['select']}}}}}"
      ]
     },
     "execution_count": 6,
     "metadata": {},
     "output_type": "execute_result"
    }
   ],
   "source": [
    "ch_key = a['children1']\n",
    "ch_key"
   ]
  },
  {
   "cell_type": "code",
   "execution_count": 9,
   "metadata": {},
   "outputs": [
    {
     "name": "stdout",
     "output_type": "stream",
     "text": [
      "{'type': 'rule', 'properties': {'field': 'user.login', 'operator': 'equal', 'value': ['batman'], 'valueSrc': ['value'], 'valueType': ['text']}}\n",
      "{'type': 'rule', 'properties': {'field': 'stock', 'operator': 'equal', 'value': ['false'], 'valueSrc': ['value'], 'valueType': ['boolean']}}\n",
      "{'type': 'rule', 'properties': {'field': 'slider', 'operator': 'equal', 'value': [35], 'valueSrc': ['value'], 'valueType': ['number']}}\n",
      "{'type': 'group', 'properties': {'conjunction': 'OR', 'not': 'false'}, 'children1': {'999ab8aa-89ab-4cde-b012-31838807cb01': {'type': 'rule', 'properties': {'field': 'num', 'operator': 'equal', 'value': [5], 'valueSrc': ['value'], 'valueType': ['number']}}, '98a88ab8-4567-489a-bcde-f1838807ed63': {'type': 'rule', 'properties': {'field': 'color', 'operator': 'select_equals', 'value': ['green'], 'valueSrc': ['value'], 'valueType': ['select']}}}}\n"
     ]
    }
   ],
   "source": [
    "list1 = []\n",
    "for next_key in ch_key:\n",
    "    next1_key = a['children1'][next_key]\n",
    "    print(next1_key)\n",
    "#     for key2 in next1_key:\n",
    "#         next3_key = a['children1'][next_key][key2]\n",
    "#         print(next3_key)\n",
    "#         for key4 in next3_key:\n",
    "#            # print(key4)\n",
    "#             if key4 == \"field\":\n",
    "#                 list1.append(key4)\n",
    "#                 #print(key4)\n",
    "#                 list1.append(a['children1'][next_key][key2][key4])\n",
    "# #list1"
   ]
  },
  {
   "cell_type": "code",
   "execution_count": null,
   "metadata": {},
   "outputs": [],
   "source": []
  },
  {
   "cell_type": "code",
   "execution_count": null,
   "metadata": {},
   "outputs": [],
   "source": []
  },
  {
   "cell_type": "code",
   "execution_count": 49,
   "metadata": {},
   "outputs": [],
   "source": [
    "ddd ={\"name\":\"vicky\",\"eee\":{\"address\":\"jaipur\",\"ppp\":{\"bbc\":234,\"school\":555},\"lkl\":{\"bbc\":123,89:45}},\"Roll\":123}"
   ]
  },
  {
   "cell_type": "code",
   "execution_count": 56,
   "metadata": {},
   "outputs": [
    {
     "name": "stdout",
     "output_type": "stream",
     "text": [
      "{'bbc': 234, 'school': 555}\n"
     ]
    }
   ],
   "source": [
    "print(ddd[\"eee\"][\"ppp\"])"
   ]
  },
  {
   "cell_type": "code",
   "execution_count": 63,
   "metadata": {},
   "outputs": [
    {
     "data": {
      "text/plain": [
       "[555]"
      ]
     },
     "execution_count": 63,
     "metadata": {},
     "output_type": "execute_result"
    }
   ],
   "source": [
    "list1 = []\n",
    "for key in ddd.keys():\n",
    "    #print(key)\n",
    "    if key == \"eee\":\n",
    "       # print(ddd[key])\n",
    "        for key1 in ddd[key]['ppp']:\n",
    "            if key1 == \"school\":\n",
    "                #print(ddd[key]['ppp'][key1])\n",
    "                list1.append(ddd[key]['ppp'][key1])\n",
    "list1"
   ]
  },
  {
   "cell_type": "code",
   "execution_count": 2,
   "metadata": {},
   "outputs": [],
   "source": [
    "#  Q.\n",
    "\n",
    "\n",
    "input1 = [{\"product\":\"apple\",\"price\":123},{\"product\":\"apple\",\"price\":123},\n",
    "          {\"product\":\"apple\",\"price\":123},{\"product\":\"apple\",\"management\":\"product\"}]\n",
    "\n",
    "\n",
    "output = {\n",
    "    \"price\":[{\"product\":\"apple\",\"price\":123},{\"product\":\"apple\",\"price\":123},{\"product\":\"apple\",\"price\":123}],\n",
    "    \"management\":[{\"product\":\"apple\",\"management\":\"product\"}]\n",
    "}"
   ]
  },
  {
   "cell_type": "code",
   "execution_count": 23,
   "metadata": {},
   "outputs": [
    {
     "name": "stdout",
     "output_type": "stream",
     "text": [
      "{'price': [{'product': 'apple', 'price': 123}], 'management': [{'product': 'apple', 'management': 'product'}]}\n"
     ]
    }
   ],
   "source": [
    "output = {}\n",
    "check_list = []\n",
    "for list_ele in input1:\n",
    "    for key in list_ele.keys():\n",
    "        if key == \"management\":\n",
    "            output[key] = []\n",
    "            output[key].append(list_ele)\n",
    "        elif key == \"price\":\n",
    "            output[key] = []\n",
    "            output[key].append(list_ele)\n",
    "print(output)\n"
   ]
  },
  {
   "cell_type": "code",
   "execution_count": 62,
   "metadata": {},
   "outputs": [
    {
     "name": "stdout",
     "output_type": "stream",
     "text": [
      "{'product': [{'product': 'apple', 'management': 'product'}], 'price': [{'product': 'apple', 'price': 123}], 'management': [{'product': 'apple', 'management': 'product'}]}\n"
     ]
    }
   ],
   "source": [
    "dict1 = {}\n",
    "for ele in input1:\n",
    "    for key in ele.keys():\n",
    "        dict1[key]=[]\n",
    "        if key not in dict1:\n",
    "            dict1[key].append(ele)\n",
    "        else:\n",
    "            dict1[key].append(ele)\n",
    "print(dict1)"
   ]
  },
  {
   "cell_type": "code",
   "execution_count": 77,
   "metadata": {},
   "outputs": [
    {
     "data": {
      "text/plain": [
       "{'product': [{'product': 'apple', 'price': 123}],\n",
       " 'price': [{'product': 'apple', 'management': 'product'}],\n",
       " 'management': [{'product': 'apple', 'management': 'product'}]}"
      ]
     },
     "execution_count": 77,
     "metadata": {},
     "output_type": "execute_result"
    }
   ],
   "source": [
    "dict2 = {}\n",
    "check_lis = []\n",
    "for lis_ele in input1:\n",
    "   # print(lis_ele)\n",
    "    for key in lis_ele.keys():\n",
    "       # print(key)\n",
    "        if key not in check_lis:\n",
    "            check_lis.append(key)\n",
    "            \n",
    "        else:\n",
    "            check_lis.remove(key)\n",
    "    for refrence in check_lis:\n",
    "        if refrence in lis_ele:\n",
    "            dict2[refrence]=[]\n",
    "            dict2[refrence].append(lis_ele)\n",
    "            #break\n",
    "        else:\n",
    "            dict2[refrence]=[]\n",
    "            dict2[refrence].append(lis_ele)\n",
    "dict2"
   ]
  },
  {
   "cell_type": "code",
   "execution_count": null,
   "metadata": {},
   "outputs": [],
   "source": []
  },
  {
   "cell_type": "code",
   "execution_count": null,
   "metadata": {},
   "outputs": [],
   "source": []
  }
 ],
 "metadata": {
  "kernelspec": {
   "display_name": "Python 3 (ipykernel)",
   "language": "python",
   "name": "python3"
  },
  "language_info": {
   "codemirror_mode": {
    "name": "ipython",
    "version": 3
   },
   "file_extension": ".py",
   "mimetype": "text/x-python",
   "name": "python",
   "nbconvert_exporter": "python",
   "pygments_lexer": "ipython3",
   "version": "3.10.7"
  }
 },
 "nbformat": 4,
 "nbformat_minor": 4
}
