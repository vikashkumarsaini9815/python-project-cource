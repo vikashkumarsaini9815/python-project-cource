{
 "cells": [
  {
   "cell_type": "code",
   "execution_count": 24,
   "metadata": {},
   "outputs": [],
   "source": [
    "# swap value of tow variable\n",
    "a =16\n",
    "b =8\n"
   ]
  },
  {
   "cell_type": "code",
   "execution_count": 25,
   "metadata": {},
   "outputs": [
    {
     "name": "stdout",
     "output_type": "stream",
     "text": [
      "b =  16 a =  8\n"
     ]
    }
   ],
   "source": [
    "c = a\n",
    "a = b\n",
    "b = c\n",
    "print(\"b = \",b ,\"a = \",a)"
   ]
  },
  {
   "cell_type": "code",
   "execution_count": 70,
   "metadata": {},
   "outputs": [
    {
     "name": "stdout",
     "output_type": "stream",
     "text": [
      "erolagnab\n"
     ]
    }
   ],
   "source": [
    "# wap reverse string\n",
    "\n",
    "str1 = \"bangalore\"\n",
    "str32 = \"\"\n",
    "for i in str1:\n",
    "     str32= i + str32\n",
    "print(str32)"
   ]
  },
  {
   "cell_type": "code",
   "execution_count": 41,
   "metadata": {},
   "outputs": [],
   "source": [
    "# swap value of two variable widhout creating 3 variable\n",
    "\n",
    "a = 5\n",
    "b = 8"
   ]
  },
  {
   "cell_type": "code",
   "execution_count": 42,
   "metadata": {},
   "outputs": [
    {
     "data": {
      "text/plain": [
       "10"
      ]
     },
     "execution_count": 42,
     "metadata": {},
     "output_type": "execute_result"
    }
   ],
   "source": [
    "a += "
   ]
  },
  {
   "cell_type": "code",
   "execution_count": null,
   "metadata": {},
   "outputs": [],
   "source": []
  },
  {
   "cell_type": "code",
   "execution_count": 58,
   "metadata": {},
   "outputs": [
    {
     "name": "stdout",
     "output_type": "stream",
     "text": [
      "no\n"
     ]
    }
   ],
   "source": [
    "# tell me no =8 is prime or not\n",
    "\n",
    "no = 98\n",
    "isprime = \"\"\n",
    "for ii in range(2,no):\n",
    "    if no % ii == 0:\n",
    "        isprime = \"no\"\n",
    "        break\n",
    "        \n",
    "    else:\n",
    "        isprime = \"yes\"\n",
    "print(isprime)"
   ]
  },
  {
   "cell_type": "code",
   "execution_count": null,
   "metadata": {},
   "outputs": [],
   "source": [
    "# "
   ]
  },
  {
   "cell_type": "code",
   "execution_count": null,
   "metadata": {},
   "outputs": [],
   "source": [
    "def irobot(command,location):\n",
    "    \"\"\"\n",
    "    Args:\n",
    "        param1: command: str   command has to be excute :  MMSMMNNMME\n",
    "        param2: location: tuple  location tuple ex- (2,3,N)\n",
    "        \n",
    "    return: \n",
    "        location: tuple ex- (3,2,N)\n",
    "        \n",
    "    \"\"\"\n",
    "    \n",
    "    \n",
    "    retunr (3,1,\"E\")# location tuple (3,1,E)"
   ]
  }
 ],
 "metadata": {
  "kernelspec": {
   "display_name": "Python 3 (ipykernel)",
   "language": "python",
   "name": "python3"
  },
  "language_info": {
   "codemirror_mode": {
    "name": "ipython",
    "version": 3
   },
   "file_extension": ".py",
   "mimetype": "text/x-python",
   "name": "python",
   "nbconvert_exporter": "python",
   "pygments_lexer": "ipython3",
   "version": "3.9.12"
  }
 },
 "nbformat": 4,
 "nbformat_minor": 4
}
