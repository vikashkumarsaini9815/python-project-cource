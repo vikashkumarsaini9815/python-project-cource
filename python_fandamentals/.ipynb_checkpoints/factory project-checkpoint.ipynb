{
 "cells": [
  {
   "cell_type": "markdown",
   "id": "655e1e8e",
   "metadata": {},
   "source": [
    "# Project works"
   ]
  },
  {
   "cell_type": "code",
   "execution_count": null,
   "id": "c1f7e247",
   "metadata": {},
   "outputs": [],
   "source": []
  },
  {
   "cell_type": "code",
   "execution_count": 8,
   "id": "8a13db3b",
   "metadata": {},
   "outputs": [],
   "source": [
    "data={\n",
    "        \"A\": [10.28, \"ED Screen\"],\n",
    "        \"B\": [24.07, \"OLED Screen\"],\n",
    "        \"C\": [33.3, \"AMOLED Screen\"],\n",
    "        \"D\": [25.94, \"Wide-Angle Camera\"],\n",
    "        \"E\": [32.39, \"Ultra-Wide-Angle Camera\"],\n",
    "        \"F\": [18.77, \"USB-C Port\"],\n",
    "        \"G\": [15.13, \"Micro-USB Port\"],\n",
    "        \"H\": [20.0, \"Lightning Port\"],\n",
    "        \"I\": [42.31, \"Android OS\"],\n",
    "        \"J\": [45.0, \"ios OS\"],\n",
    "        \"K\": [45.0, \"Metallic Body\"],\n",
    "        \"L\": [30.0, \"Plastic Body\"]\n",
    "}\n"
   ]
  },
  {
   "cell_type": "code",
   "execution_count": 67,
   "id": "363f6045",
   "metadata": {},
   "outputs": [
    {
     "name": "stdout",
     "output_type": "stream",
     "text": [
      "Enter partAHJ\n",
      "{'order_id': 413, 'Total': 75.28, 'parts': ['ED Screen', 'Lightning Port', 'ios OS']}\n"
     ]
    }
   ],
   "source": [
    "from random import randint\n",
    "ganrateotp = randint(100, 999)\n",
    "import re\n",
    "componet = input(\"Enter part\",)\n",
    "list1 = list(componet)\n",
    "total = 0\n",
    "parts_of_list =[]\n",
    "final_result = {}\n",
    "for part in list1:\n",
    "    rev = data[part]\n",
    "    price = rev[0]\n",
    "    part = rev[1]\n",
    "    parts_of_list.append(part)\n",
    "    total += price\n",
    "final_result={\"order_id\":ganrateotp,\"Total\":total,\"parts\":parts_of_list}\n",
    "print(final_result)"
   ]
  },
  {
   "cell_type": "code",
   "execution_count": 22,
   "id": "1fc0ece1",
   "metadata": {},
   "outputs": [
    {
     "name": "stdout",
     "output_type": "stream",
     "text": [
      "['ED Screen', 'OLED Screen', 'Wide-Angle Camera', 'AMOLED Screen', 'USB-C Port']\n"
     ]
    }
   ],
   "source": [
    "check_list =[\"Screen\",\"Camera\",\"Port\",\"OS\",\"Body\"]\n",
    "print(final_result['parts'])"
   ]
  },
  {
   "cell_type": "code",
   "execution_count": null,
   "id": "7e5aa222",
   "metadata": {},
   "outputs": [],
   "source": []
  },
  {
   "cell_type": "code",
   "execution_count": 5,
   "id": "cf607bcc",
   "metadata": {},
   "outputs": [],
   "source": [
    "from random import randint\n",
    "ganrateotp = randint(100, 999)"
   ]
  },
  {
   "cell_type": "code",
   "execution_count": null,
   "id": "898ecb32",
   "metadata": {},
   "outputs": [],
   "source": [
    "print(ganrateotp)"
   ]
  },
  {
   "cell_type": "code",
   "execution_count": null,
   "id": "9bbaf95f",
   "metadata": {},
   "outputs": [],
   "source": []
  },
  {
   "cell_type": "code",
   "execution_count": 25,
   "id": "672ecd83",
   "metadata": {},
   "outputs": [
    {
     "name": "stdout",
     "output_type": "stream",
     "text": [
      "batnize aadmi\n"
     ]
    }
   ],
   "source": [
    "mylist = [\"a\", \"b\",\"c\", \"b\"]\n",
    "cd = []\n",
    "for i in mylist:\n",
    "    if i not in cd:\n",
    "        cd.append(i)\n",
    "    else:\n",
    "        def res(rev):        \n",
    "            return rev\n",
    "        rev = (\"batnize aadmi\")\n",
    "        print(res(rev))\n"
   ]
  },
  {
   "cell_type": "code",
   "execution_count": 2,
   "id": "ccd6468c",
   "metadata": {},
   "outputs": [],
   "source": [
    "\n",
    "\n",
    "            \n",
    "    "
   ]
  },
  {
   "cell_type": "code",
   "execution_count": 11,
   "id": "7127aa39",
   "metadata": {},
   "outputs": [
    {
     "name": "stdout",
     "output_type": "stream",
     "text": [
      "Enter partABC\n",
      "good\n",
      "good\n",
      "good\n"
     ]
    }
   ],
   "source": [
    "from random import randint\n",
    "ganrateotp = randint(100, 999)\n",
    "componet = input(\"Enter part\",)\n",
    "list1 = list(componet)\n",
    "total = 0\n",
    "parts_of_list =[]\n",
    "final_result = {}\n",
    "for part in list1:\n",
    "    rev = data[part]\n",
    "    price = rev[0]\n",
    "    part = rev[1]\n",
    "    parts_of_list.append(part)\n",
    "    total += price\n",
    "final_result={\"order_id\":ganrateotp,\"Total\":total,\"parts\":parts_of_list}\n",
    "list4 = final_result[\"parts\"]\n",
    "check_list = [\"Screen\",\"Camera\",\"Port\",\"OS\",\"Body\"]\n",
    "ll = []\n",
    "for ele in list3:\n",
    "    for dataele2 in list4:    \n",
    "        rev=dataele2.split()\n",
    "        rev.reverse()\n",
    "        chek_str = rev[0]\n",
    "        if chek_str == ele:\n",
    "            print(\"good\")\n",
    "            message = {\"data\":\"Data given you\"}\n",
    "            #return message\n",
    "            if ele in ll:\n",
    "                print(\"this is not valid\")\n",
    "                #return response                        \n",
    "            else:\n",
    "                ll.append(ele)"
   ]
  },
  {
   "cell_type": "code",
   "execution_count": 61,
   "id": "7e9e15e0",
   "metadata": {},
   "outputs": [
    {
     "name": "stdout",
     "output_type": "stream",
     "text": [
      "['Screen', 'Screen', 'Screen', 'Screen', 'Screen']\n",
      "[]\n",
      "['Port']\n",
      "[]\n",
      "[]\n"
     ]
    }
   ],
   "source": [
    "import re\n",
    "checkparts = final_result[\"parts\"]\n",
    "check_list =[\"Screen\",\"Camera\",\"Port\",\"OS\",\"Body\"]\n",
    "c = ' '.join(checkparts)\n",
    "for ii in check_list:\n",
    "    x = re.findall(ii, c)\n",
    "    print(x)\n",
    "    "
   ]
  },
  {
   "cell_type": "code",
   "execution_count": 33,
   "id": "3b7a9fa9",
   "metadata": {},
   "outputs": [
    {
     "ename": "SyntaxError",
     "evalue": "invalid syntax (3370243639.py, line 3)",
     "output_type": "error",
     "traceback": [
      "\u001b[1;36m  Input \u001b[1;32mIn [33]\u001b[1;36m\u001b[0m\n\u001b[1;33m    if par not checkparts:\u001b[0m\n\u001b[1;37m               ^\u001b[0m\n\u001b[1;31mSyntaxError\u001b[0m\u001b[1;31m:\u001b[0m invalid syntax\n"
     ]
    }
   ],
   "source": [
    "lk = []\n",
    "for par in check_list:\n",
    "    if par not checkparts:\n",
    "        print(par)\n",
    "    else:\n",
    "        print(\"ram \")"
   ]
  },
  {
   "cell_type": "code",
   "execution_count": 5,
   "id": "62433996",
   "metadata": {},
   "outputs": [],
   "source": [
    "#check_list me jo element hai vo data list me repite nhi hona chaiye\n",
    "#wap check_list ka koi bhi element aagar data list me aata hai to given a message not valid\n",
    "import re\n",
    "check_list = [\"Screen\",\"Camera\",\"Port\",\"OS\",\"Body\"]\n",
    "\n",
    "#check =['ED Screen', 'OLED Screen', 'AMOLED Screen', 'Wide-Angle Camera', 'Ultra-Wide-Angle Camera', 'USB-C Port', 'Micro-USB Port', 'Lightning Port', 'Android OS', 'ios OS', 'Metallic Body', 'Plastic Body']\n",
    "\n",
    "\n",
    "Data=['ED Screen', 'OLED Screen', 'AMOLED Screen','FF OS', 'OLED Screen', 'USB-C Port', 'ED Screen',\"dd OS\"]\n",
    "varib = 0\n",
    "for ele in check_list:\n",
    "    for i in Data:\n",
    "        if re.findall(ele, i):\n",
    "            varib += 1\n",
    "    if varib == 2:\n",
    "        varib = 0\n",
    "        print(ele)\n",
    "        break\n",
    "#print(ele)"
   ]
  },
  {
   "cell_type": "code",
   "execution_count": null,
   "id": "d2ec43b4",
   "metadata": {},
   "outputs": [],
   "source": []
  },
  {
   "cell_type": "code",
   "execution_count": 5,
   "id": "5d375774",
   "metadata": {},
   "outputs": [
    {
     "name": "stdout",
     "output_type": "stream",
     "text": [
      "True\n",
      "Chalne do koi issue nhi h\n",
      "Chalne do koi issue nhi h\n",
      "True\n",
      "Not salected duplicat\n",
      "2\n"
     ]
    }
   ],
   "source": [
    "def list_contains(List1, List2):\n",
    "    count = 0\n",
    "    for m in list1:\n",
    "        for n in list2:\n",
    "            if n.split(\" \")[-1] == m:\n",
    "                count += 1\n",
    "                print(\"True\")\n",
    "        if count > 1:\n",
    "            print(\"Not salected duplicat\")\n",
    "            break\n",
    "        else:\n",
    "            print(\"Chalne do koi issue nhi h\")\n",
    "    return count\n",
    "list1 = [\"Screen\",\"Camera\",\"Port\",\"OS\",\"Body\"]\n",
    "list2 = ['USB-C Port', 'ED Screen']\n",
    "\n",
    "print(list_contains(list1,list2))"
   ]
  },
  {
   "cell_type": "code",
   "execution_count": 17,
   "id": "94755b2d",
   "metadata": {},
   "outputs": [
    {
     "name": "stdout",
     "output_type": "stream",
     "text": [
      "Chalne do koi issue nhi h\n",
      "True\n",
      "Not salected duplicat\n",
      "Chalne do koi issue nhi h\n",
      "Not salected duplicat\n",
      "True\n",
      "Not salected duplicat\n",
      "Not salected duplicat\n",
      "Not salected duplicat\n"
     ]
    },
    {
     "data": {
      "text/plain": [
       "0"
      ]
     },
     "execution_count": 17,
     "metadata": {},
     "output_type": "execute_result"
    }
   ],
   "source": [
    "def list_contains(List1, List2):\n",
    "    count = 0\n",
    "    lls = []\n",
    "    for m in list1:\n",
    "        for n in list2:\n",
    "            l = n.split(\" \")[-1]\n",
    "            if l == m:\n",
    "                lls.append(l)\n",
    "                print(\"True\")\n",
    "            if l in lls:\n",
    "                print(\"Not salected duplicat\")\n",
    "                break\n",
    "            else:\n",
    "                print(\"Chalne do koi issue nhi h\")\n",
    "    return count\n",
    "list1 = [\"Screen\",\"Camera\",\"Port\",\"OS\",\"Body\"]\n",
    "list2 = ['USB-C Port', 'ED Screen']\n",
    "\n",
    "list_contains(list1,list2)"
   ]
  },
  {
   "cell_type": "code",
   "execution_count": null,
   "id": "fdb0a4dc",
   "metadata": {},
   "outputs": [],
   "source": []
  },
  {
   "cell_type": "code",
   "execution_count": 6,
   "id": "f190d349",
   "metadata": {},
   "outputs": [
    {
     "ename": "NameError",
     "evalue": "name 'response' is not defined",
     "output_type": "error",
     "traceback": [
      "\u001b[1;31m---------------------------------------------------------------------------\u001b[0m",
      "\u001b[1;31mNameError\u001b[0m                                 Traceback (most recent call last)",
      "Input \u001b[1;32mIn [6]\u001b[0m, in \u001b[0;36m<cell line: 4>\u001b[1;34m()\u001b[0m\n\u001b[0;32m     11\u001b[0m     \u001b[38;5;66;03m#return message\u001b[39;00m\n\u001b[0;32m     12\u001b[0m     \u001b[38;5;28;01mif\u001b[39;00m ele \u001b[38;5;129;01min\u001b[39;00m ll:\n\u001b[1;32m---> 13\u001b[0m         \u001b[43mresponse\u001b[49m(\u001b[38;5;124m\"\u001b[39m\u001b[38;5;124mthis is not valid\u001b[39m\u001b[38;5;124m\"\u001b[39m)\n\u001b[0;32m     14\u001b[0m         \u001b[38;5;66;03m#return response                        \u001b[39;00m\n\u001b[0;32m     15\u001b[0m \u001b[38;5;28;01melse\u001b[39;00m:\n\u001b[0;32m     16\u001b[0m         ll\u001b[38;5;241m.\u001b[39mappend(ele)\n",
      "\u001b[1;31mNameError\u001b[0m: name 'response' is not defined"
     ]
    }
   ],
   "source": [
    "list3 = [\"Screen\",\"Camera\",\"Port\",\"OS\",\"Body\"]\n",
    "list4 = ['USB-C Port', 'ED Screen','ram OS','opp OS']\n",
    "ll = []\n",
    "for ele in list3:\n",
    "    for dataele2 in list4:    \n",
    "        rev=dataele2.split()\n",
    "        rev.reverse()\n",
    "        chek_str = rev[0]\n",
    "        if chek_str == ele:\n",
    "            message = {\"data\":\"Data given you\"}\n",
    "            #return message\n",
    "            if ele in ll:\n",
    "                response(\"this is not valid\")\n",
    "                #return response                        \n",
    "        else:\n",
    "                ll.append(ele)\n",
    "        "
   ]
  },
  {
   "cell_type": "code",
   "execution_count": null,
   "id": "8ff12a41",
   "metadata": {},
   "outputs": [],
   "source": []
  },
  {
   "cell_type": "code",
   "execution_count": null,
   "id": "9b3ac5dd",
   "metadata": {},
   "outputs": [],
   "source": []
  }
 ],
 "metadata": {
  "kernelspec": {
   "display_name": "Python 3 (ipykernel)",
   "language": "python",
   "name": "python3"
  },
  "language_info": {
   "codemirror_mode": {
    "name": "ipython",
    "version": 3
   },
   "file_extension": ".py",
   "mimetype": "text/x-python",
   "name": "python",
   "nbconvert_exporter": "python",
   "pygments_lexer": "ipython3",
   "version": "3.10.5"
  }
 },
 "nbformat": 4,
 "nbformat_minor": 5
}
