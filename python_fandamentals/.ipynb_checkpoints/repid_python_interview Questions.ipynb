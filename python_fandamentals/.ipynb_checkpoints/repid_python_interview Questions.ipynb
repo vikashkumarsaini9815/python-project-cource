{
 "cells": [
  {
   "cell_type": "markdown",
   "metadata": {},
   "source": [
    "# Python"
   ]
  },
  {
   "cell_type": "markdown",
   "metadata": {},
   "source": [
    "# Questions"
   ]
  },
  {
   "cell_type": "code",
   "execution_count": null,
   "metadata": {},
   "outputs": [],
   "source": []
  },
  {
   "cell_type": "code",
   "execution_count": null,
   "metadata": {},
   "outputs": [],
   "source": [
    "# columns=['State','City','Population']\n",
    "# datalist=[['Karanataka','Bengaluru','80'],\n",
    "# ['Karanataka','Mangalore','10'],\n",
    "# ['Karanataka','Hassan','10'],\n",
    "# ['Kerala','Kochi','40'],\n",
    "# ['Kerala','Palakkad','56'],\n",
    "# ['TamilNadu','Madras','30']]\n",
    "\n",
    "# list1 = [('English',188), ('Science', 90), ('Maths', 97), ('Social sciences', 82)]\n",
    "# length = len(list1)\n",
    "\n",
    "# for i in reange(0,length):\n",
    "#     for j in range(0,length-i-1):\n",
    "#         if (list1[j][j] > list1[j+1][1]):\n",
    "\n",
    "# intezer_no = \"vikash\"\n",
    "# print(intezer_no[::-1])\n",
    "\n",
    "#Sep 28 2022\n",
    "\n",
    "import datetime\n",
    "\n",
    "date1 = datetime.datetime.now()\n",
    "print(date1.strftime(\"%b\"),date1)"
   ]
  },
  {
   "cell_type": "code",
   "execution_count": null,
   "metadata": {},
   "outputs": [],
   "source": [
    "# Input: arr[] = {1, 4, 20, 3, 10, 5}, sum = 33\n",
    "# Output: Sum found between indexes 2 and 4\n",
    "# Explanation: Sum of elements between indices 2 and 4 is 20 + 3 + 10 = 33df"
   ]
  },
  {
   "cell_type": "code",
   "execution_count": null,
   "metadata": {},
   "outputs": [],
   "source": [
    "  "
   ]
  },
  {
   "cell_type": "raw",
   "metadata": {},
   "source": [
    "Q. 1 given a list and expected output sorted elements \n",
    "\n",
    "input:-\n",
    "\n",
    "list1 = [('English',188), ('Science', 90), ('Maths', 97), ('Social sciences', 82)]\n",
    "\n",
    "output:-\n",
    "    \n",
    "[('Social sciences', 82),('Science', 90),('Maths', 97),('English',188)]"
   ]
  },
  {
   "cell_type": "markdown",
   "metadata": {},
   "source": [
    "Ans. :- "
   ]
  },
  {
   "cell_type": "code",
   "execution_count": 4,
   "metadata": {},
   "outputs": [],
   "source": [
    "list1 = [('English',188), ('Science', 90), ('Maths', 97), ('Social sciences', 82)]\n",
    "\n",
    "for ele in list1:\n",
    "    for ele2 in ele:\n",
    "        "
   ]
  },
  {
   "cell_type": "code",
   "execution_count": null,
   "metadata": {},
   "outputs": [],
   "source": []
  },
  {
   "cell_type": "code",
   "execution_count": null,
   "metadata": {},
   "outputs": [],
   "source": []
  },
  {
   "cell_type": "code",
   "execution_count": null,
   "metadata": {},
   "outputs": [],
   "source": []
  }
 ],
 "metadata": {
  "kernelspec": {
   "display_name": "Python 3 (ipykernel)",
   "language": "python",
   "name": "python3"
  },
  "language_info": {
   "codemirror_mode": {
    "name": "ipython",
    "version": 3
   },
   "file_extension": ".py",
   "mimetype": "text/x-python",
   "name": "python",
   "nbconvert_exporter": "python",
   "pygments_lexer": "ipython3",
   "version": "3.10.5"
  }
 },
 "nbformat": 4,
 "nbformat_minor": 4
}
