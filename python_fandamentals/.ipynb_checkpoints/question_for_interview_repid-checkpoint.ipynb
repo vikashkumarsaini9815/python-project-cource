{
 "cells": [
  {
   "cell_type": "markdown",
   "metadata": {},
   "source": [
    "# Python"
   ]
  },
  {
   "cell_type": "code",
   "execution_count": null,
   "metadata": {},
   "outputs": [],
   "source": []
  },
  {
   "cell_type": "code",
   "execution_count": null,
   "metadata": {},
   "outputs": [],
   "source": [
    "# swap value of tow variable\n",
    "a =16\n",
    "b =8\n"
   ]
  },
  {
   "cell_type": "code",
   "execution_count": 25,
   "metadata": {},
   "outputs": [
    {
     "name": "stdout",
     "output_type": "stream",
     "text": [
      "b =  16 a =  8\n"
     ]
    }
   ],
   "source": [
    "c = a\n",
    "a = b\n",
    "b = c\n",
    "print(\"b = \",b ,\"a = \",a)"
   ]
  },
  {
   "cell_type": "code",
   "execution_count": 70,
   "metadata": {},
   "outputs": [
    {
     "name": "stdout",
     "output_type": "stream",
     "text": [
      "erolagnab\n"
     ]
    }
   ],
   "source": [
    "# wap reverse string\n",
    "\n",
    "str1 = \"bangalore\"\n",
    "str32 = \"\"\n",
    "for i in str1:\n",
    "     str32= i + str32\n",
    "print(str32)"
   ]
  },
  {
   "cell_type": "code",
   "execution_count": 41,
   "metadata": {},
   "outputs": [],
   "source": [
    "# swap value of two variable widhout creating 3 variable\n",
    "\n",
    "a = 5\n",
    "b = 8"
   ]
  },
  {
   "cell_type": "code",
   "execution_count": 42,
   "metadata": {},
   "outputs": [
    {
     "data": {
      "text/plain": [
       "10"
      ]
     },
     "execution_count": 42,
     "metadata": {},
     "output_type": "execute_result"
    }
   ],
   "source": [
    "a += "
   ]
  },
  {
   "cell_type": "code",
   "execution_count": null,
   "metadata": {},
   "outputs": [],
   "source": []
  },
  {
   "cell_type": "code",
   "execution_count": 58,
   "metadata": {},
   "outputs": [
    {
     "name": "stdout",
     "output_type": "stream",
     "text": [
      "no\n"
     ]
    }
   ],
   "source": [
    "# tell me no =8 is prime or not\n",
    "\n",
    "no = 98\n",
    "isprime = \"\"\n",
    "for ii in range(2,no):\n",
    "    if no % ii == 0:\n",
    "        isprime = \"no\"\n",
    "        break\n",
    "        \n",
    "    else:\n",
    "        isprime = \"yes\"\n",
    "print(isprime)"
   ]
  },
  {
   "cell_type": "code",
   "execution_count": null,
   "metadata": {},
   "outputs": [],
   "source": [
    "# "
   ]
  },
  {
   "cell_type": "code",
   "execution_count": 6,
   "metadata": {},
   "outputs": [],
   "source": [
    "def irobot(command,location):\n",
    "    \"\"\"\n",
    "    Args:\n",
    "        param1: command: str   command has to be excute :  MMSMMNNMME\n",
    "        param2: location: tuple  location tuple ex- (2,3,N)\n",
    "        \n",
    "    return: \n",
    "        location: tuple ex- (3,2,N)\n",
    "        \n",
    "    \"\"\"\n",
    "    column = 5\n",
    "    row = 4\n",
    "    for colum in range(column):\n",
    "        for ro in range(row):\n",
    "            \n",
    "    \n",
    "    \n",
    "    retunr (3,1,\"E\")# location tuple (3,1,E)"
   ]
  },
  {
   "cell_type": "code",
   "execution_count": 7,
   "metadata": {},
   "outputs": [
    {
     "name": "stdout",
     "output_type": "stream",
     "text": [
      "0\n",
      "1\n",
      "2\n",
      "3\n"
     ]
    }
   ],
   "source": [
    "c=5\n",
    "r=4\n",
    "\n",
    "for i in range(r):\n",
    "    print(i)"
   ]
  },
  {
   "cell_type": "code",
   "execution_count": 14,
   "metadata": {},
   "outputs": [
    {
     "ename": "TypeError",
     "evalue": "'str' object is not an iterator",
     "output_type": "error",
     "traceback": [
      "\u001b[1;31m---------------------------------------------------------------------------\u001b[0m",
      "\u001b[1;31mTypeError\u001b[0m                                 Traceback (most recent call last)",
      "Input \u001b[1;32mIn [14]\u001b[0m, in \u001b[0;36m<cell line: 6>\u001b[1;34m()\u001b[0m\n\u001b[0;32m      4\u001b[0m row \u001b[38;5;241m=\u001b[39m \u001b[38;5;241m4\u001b[39m\n\u001b[0;32m      5\u001b[0m node \u001b[38;5;241m=\u001b[39m ()\n\u001b[1;32m----> 6\u001b[0m loc \u001b[38;5;241m=\u001b[39m \u001b[38;5;28;43mnext\u001b[39;49m\u001b[43m(\u001b[49m\u001b[43mlocation\u001b[49m\u001b[43m)\u001b[49m\n\u001b[0;32m      7\u001b[0m \u001b[38;5;28;01mif\u001b[39;00m loc \u001b[38;5;241m==\u001b[39m \u001b[38;5;124m\"\u001b[39m\u001b[38;5;124mn\u001b[39m\u001b[38;5;124m\"\u001b[39m:\n\u001b[0;32m      8\u001b[0m     \u001b[38;5;28mprint\u001b[39m(\u001b[38;5;124m\"\u001b[39m\u001b[38;5;124mnorth\u001b[39m\u001b[38;5;124m\"\u001b[39m)\n",
      "\u001b[1;31mTypeError\u001b[0m: 'str' object is not an iterator"
     ]
    }
   ],
   "source": [
    "comand = (2,3)\n",
    "location = \"emmsn\"\n",
    "column = 5\n",
    "row = 4\n",
    "node = ()\n",
    "loc = next(location)\n",
    "if loc == \"n\":\n",
    "    \n",
    "    print(\"north\")\n",
    "elif loc == \"s\":\n",
    "    print(\"south\")\n",
    "elif loc == \"e\":\n",
    "    print(\"east\")\n",
    "elif loc == \"w\":\n",
    "    print(\"west\")\n",
    "        \n",
    "        "
   ]
  },
  {
   "cell_type": "raw",
   "metadata": {},
   "source": [
    "    0   1    2     3     4\n",
    "\n",
    "0   *   *    *     *     *\n",
    "\n",
    "1   *   *    *     *     *\n",
    "\n",
    "2   *   *    *     *     *\n",
    " \n",
    "3   *   *    *     *     *"
   ]
  },
  {
   "cell_type": "code",
   "execution_count": null,
   "metadata": {},
   "outputs": [],
   "source": []
  },
  {
   "cell_type": "code",
   "execution_count": null,
   "metadata": {},
   "outputs": [],
   "source": []
  },
  {
   "cell_type": "code",
   "execution_count": null,
   "metadata": {},
   "outputs": [],
   "source": [
    "list1 = [\"a,\"b,\"c\"]\n",
    "output= 0,a\n",
    "        1,b\n",
    "        2,c\n",
    "        \n",
    "\n",
    "        "
   ]
  },
  {
   "cell_type": "code",
   "execution_count": 22,
   "metadata": {},
   "outputs": [
    {
     "name": "stdout",
     "output_type": "stream",
     "text": [
      "(0, 'a')\n",
      "(1, 'b')\n",
      "(2, 'c')\n"
     ]
    }
   ],
   "source": [
    "list1 = [\"a\",\"b\",\"c\"]\n",
    "aa = len(list1)\n",
    "list2 = []\n",
    "for ele in range(aa):\n",
    "    list2.append((ele,list1[ele]))\n",
    "list2\n",
    "for i in list2:\n",
    "    print(i)\n",
    "    \n",
    "    \n",
    "    "
   ]
  },
  {
   "cell_type": "code",
   "execution_count": null,
   "metadata": {},
   "outputs": [],
   "source": []
  },
  {
   "cell_type": "raw",
   "metadata": {},
   "source": [
    "Q. wap list sorted on given list"
   ]
  },
  {
   "cell_type": "code",
   "execution_count": 3,
   "metadata": {},
   "outputs": [
    {
     "name": "stdout",
     "output_type": "stream",
     "text": [
      "[3, 6, 9, 34, 56, 90, 95]\n"
     ]
    }
   ],
   "source": [
    "list1 = [90,34,6,3,95,56,9]\n",
    "new_list = []\n",
    "\n",
    "while list1:\n",
    "    hold_value = list1[0]\n",
    "    for ele in list1:\n",
    "        if hold_value > ele :\n",
    "            hold_value = ele\n",
    "    new_list.append(hold_value)\n",
    "    list1.remove(hold_value)\n",
    "    \n",
    "print(new_list)"
   ]
  },
  {
   "cell_type": "code",
   "execution_count": 3,
   "metadata": {},
   "outputs": [
    {
     "name": "stdout",
     "output_type": "stream",
     "text": [
      "1\n",
      "2\n",
      "3\n",
      "4\n",
      "[1, 2, 3, 4, 5]\n"
     ]
    }
   ],
   "source": [
    "a = [3, 1, 5, 2, 4]\n",
    "\n",
    "for i in a[1:]:\n",
    "    j = a.index(i)\n",
    "    print(j)\n",
    "    while j > 0 and a[j-1] > a[j]:\n",
    "        a[j], a[j-1] = a[j-1], a[j]\n",
    "        j = j - 1\n",
    "print(a)"
   ]
  },
  {
   "cell_type": "code",
   "execution_count": null,
   "metadata": {},
   "outputs": [],
   "source": []
  },
  {
   "cell_type": "code",
   "execution_count": null,
   "metadata": {},
   "outputs": [],
   "source": []
  },
  {
   "cell_type": "code",
   "execution_count": 2,
   "metadata": {},
   "outputs": [
    {
     "name": "stdout",
     "output_type": "stream",
     "text": [
      "[6, 23, 45, 54, 56, 90]\n"
     ]
    }
   ],
   "source": [
    "#    sorted list\n",
    "\n",
    "list21 = [54,6,23,90,56,45]\n",
    "\n",
    "new = []\n",
    "\n",
    "while list21:\n",
    "    hold = list21[0]\n",
    "    for ele in list21:\n",
    "        if ele < hold :\n",
    "            hold = ele\n",
    "            \n",
    "    new.append(hold)\n",
    "    list21.remove(hold)\n",
    "print(new)"
   ]
  },
  {
   "cell_type": "code",
   "execution_count": null,
   "metadata": {},
   "outputs": [],
   "source": []
  },
  {
   "cell_type": "raw",
   "metadata": {},
   "source": [
    "Q. wap given 2 list solve this \n",
    "\n",
    "Exa : \n",
    "    input : list1 = [12,5,8,4]\n",
    "            list2 = [43,8,7,2]\n",
    "            \n",
    "    output : \n",
    "            (12,43),(5,8),(8,7),(4,2)"
   ]
  },
  {
   "cell_type": "code",
   "execution_count": 15,
   "metadata": {},
   "outputs": [
    {
     "name": "stdout",
     "output_type": "stream",
     "text": [
      "(12, 43)\n",
      "(5, 8)\n",
      "(8, 7)\n",
      "(4, 2)\n"
     ]
    }
   ],
   "source": [
    "list1 = [12,5,8,4]\n",
    "list2 = [43,8,7,2]\n",
    "list_new = []\n",
    "for ele in range (len(list1)):\n",
    "    list_new.append((list1[ele],list2[ele]))\n",
    "for new in list_new:\n",
    "    print(new)\n",
    "    "
   ]
  },
  {
   "cell_type": "raw",
   "metadata": {},
   "source": [
    "Q. given dict fatch all keys\n",
    "\n",
    "thisdict = {\n",
    "  \"brand\": \"Ford\",\n",
    "  \"model\": \"Mustang\",\n",
    "  \"year\": 1964\n",
    "}"
   ]
  },
  {
   "cell_type": "code",
   "execution_count": 21,
   "metadata": {},
   "outputs": [
    {
     "name": "stdout",
     "output_type": "stream",
     "text": [
      "brand\n",
      "model\n",
      "year\n",
      "dict_keys(['brand', 'model', 'year'])\n"
     ]
    }
   ],
   "source": [
    "thisdict = {\n",
    "  \"brand\": \"Ford\",\n",
    "  \"model\": \"Mustang\",\n",
    "  \"year\": 1964\n",
    "}\n",
    "\n",
    "for key in thisdict.keys():\n",
    "    print(key)\n",
    "    \n",
    "#other thinks \n",
    "\n",
    "print(thisdict.keys())"
   ]
  },
  {
   "cell_type": "raw",
   "metadata": {},
   "source": [
    "Q. given a dict fatch all values \n",
    "\n",
    "thisdict = {\n",
    "  \"brand\": \"Ford\",\n",
    "  \"model\": \"Mustang\",\n",
    "  \"year\": 1964\n",
    "}"
   ]
  },
  {
   "cell_type": "code",
   "execution_count": 25,
   "metadata": {},
   "outputs": [
    {
     "name": "stdout",
     "output_type": "stream",
     "text": [
      "Ford\n",
      "Mustang\n",
      "1964\n",
      "dict_values(['Ford', 'Mustang', 1964])\n"
     ]
    }
   ],
   "source": [
    "thisdict = {\n",
    "  \"brand\": \"Ford\",\n",
    "  \"model\": \"Mustang\",\n",
    "  \"year\": 1964\n",
    "}\n",
    "\n",
    "\n",
    "for value in thisdict.values():\n",
    "    print(value)\n",
    "    \n",
    "    \n",
    "# other thiks \n",
    "\n",
    "print(thisdict.values())"
   ]
  },
  {
   "cell_type": "code",
   "execution_count": null,
   "metadata": {},
   "outputs": [],
   "source": []
  },
  {
   "cell_type": "code",
   "execution_count": 44,
   "metadata": {},
   "outputs": [
    {
     "name": "stdout",
     "output_type": "stream",
     "text": [
      "Mustang\n"
     ]
    }
   ],
   "source": [
    "thisdict = {\n",
    "  \"brand\": \"Ford\",\n",
    "  \"model\": \"Mustang\",\n",
    "  \"year\": 1964\n",
    "}\n",
    "\n",
    "print(thisdict[\"model\"])"
   ]
  },
  {
   "cell_type": "code",
   "execution_count": null,
   "metadata": {},
   "outputs": [],
   "source": []
  },
  {
   "cell_type": "raw",
   "metadata": {},
   "source": [
    "Q. wap given a dict so sorted dict value\n",
    "\n",
    "input : \n",
    "    dict1 = {\"hindi\":45,\"english\":89,\"math\":20,\"scince\":76}\n",
    "    \n",
    "output :\n",
    "            {\"math\":20,\"hindi\":45,\"scince\":76,\"english\":89}"
   ]
  },
  {
   "cell_type": "code",
   "execution_count": 3,
   "metadata": {},
   "outputs": [
    {
     "name": "stdout",
     "output_type": "stream",
     "text": [
      "hindi\n",
      "english\n",
      "math\n",
      "scince\n",
      "hindi\n",
      "english\n",
      "math\n",
      "scince\n",
      "hindi\n",
      "english\n",
      "math\n",
      "scince\n",
      "hindi\n",
      "english\n",
      "math\n",
      "scince\n"
     ]
    }
   ],
   "source": [
    "dict1 = {\"hindi\":45,\"english\":89,\"math\":20,\"scince\":76}\n",
    "dict2 = {}\n",
    "for key in dict1.():\n",
    "    for ele in dict1:\n",
    "        print(ele)\n",
    "#         if dict1[key] < ele:\n",
    "#             print(\"print\")\n",
    "    \n",
    "    "
   ]
  },
  {
   "cell_type": "code",
   "execution_count": null,
   "metadata": {},
   "outputs": [],
   "source": []
  },
  {
   "cell_type": "code",
   "execution_count": null,
   "metadata": {},
   "outputs": [],
   "source": []
  },
  {
   "cell_type": "markdown",
   "metadata": {},
   "source": [
    "Q . Functions arguments Questions "
   ]
  },
  {
   "cell_type": "raw",
   "metadata": {},
   "source": [
    "practice *kwargs"
   ]
  },
  {
   "cell_type": "code",
   "execution_count": 34,
   "metadata": {},
   "outputs": [
    {
     "name": "stdout",
     "output_type": "stream",
     "text": [
      "('vicky', 567890, 'dfghjk')\n",
      "vicky\n",
      "567890\n",
      "dfghjk\n"
     ]
    }
   ],
   "source": [
    "def name (*kwargs):\n",
    "    print(kwargs)\n",
    "    for valu in kwargs:\n",
    "        print(valu)\n",
    "    \n",
    "name(\"vicky\",567890,\"dfghjk\")"
   ]
  },
  {
   "cell_type": "code",
   "execution_count": 35,
   "metadata": {},
   "outputs": [
    {
     "name": "stdout",
     "output_type": "stream",
     "text": [
      "('vicky', 567890, 'dfghjk')\n",
      "vicky\n",
      "567890\n",
      "dfghjk\n"
     ]
    }
   ],
   "source": [
    "# change argument name \n",
    "\n",
    "def name (*ramu):\n",
    "    print(ramu)\n",
    "    for valu in ramu:\n",
    "        print(valu)\n",
    "    \n",
    "name(\"vicky\",567890,\"dfghjk\")"
   ]
  },
  {
   "cell_type": "code",
   "execution_count": 36,
   "metadata": {},
   "outputs": [
    {
     "ename": "SyntaxError",
     "evalue": "named arguments must follow bare * (2323925123.py, line 3)",
     "output_type": "error",
     "traceback": [
      "\u001b[1;36m  Input \u001b[1;32mIn [36]\u001b[1;36m\u001b[0m\n\u001b[1;33m    def name (*):\u001b[0m\n\u001b[1;37m              ^\u001b[0m\n\u001b[1;31mSyntaxError\u001b[0m\u001b[1;31m:\u001b[0m named arguments must follow bare *\n"
     ]
    }
   ],
   "source": [
    "# without arguments name\n",
    "\n",
    "def name (*):\n",
    "    print(*)\n",
    "    for valu in *:\n",
    "        print(valu)\n",
    "    \n",
    "name(\"vicky\",567890,\"dfghjk\")"
   ]
  },
  {
   "cell_type": "code",
   "execution_count": 37,
   "metadata": {},
   "outputs": [
    {
     "ename": "SyntaxError",
     "evalue": "positional argument follows keyword argument (2839551877.py, line 9)",
     "output_type": "error",
     "traceback": [
      "\u001b[1;36m  Input \u001b[1;32mIn [37]\u001b[1;36m\u001b[0m\n\u001b[1;33m    name(names=\"vicky\",567890,\"dfghjk\")\u001b[0m\n\u001b[1;37m                                      ^\u001b[0m\n\u001b[1;31mSyntaxError\u001b[0m\u001b[1;31m:\u001b[0m positional argument follows keyword argument\n"
     ]
    }
   ],
   "source": [
    "# call time mainetion variable name\n",
    "    \n",
    "    \n",
    "def name (*ramu):\n",
    "    print(ramu)\n",
    "    for valu in ramu:\n",
    "        print(valu)\n",
    "    \n",
    "name(names=\"vicky\",567890,\"dfghjk\")"
   ]
  },
  {
   "cell_type": "code",
   "execution_count": null,
   "metadata": {},
   "outputs": [],
   "source": []
  },
  {
   "cell_type": "code",
   "execution_count": null,
   "metadata": {},
   "outputs": [],
   "source": [
    "\n"
   ]
  },
  {
   "cell_type": "raw",
   "metadata": {},
   "source": [
    "# Practice ** kwargs arguments"
   ]
  },
  {
   "cell_type": "code",
   "execution_count": 39,
   "metadata": {},
   "outputs": [
    {
     "ename": "TypeError",
     "evalue": "name() takes 0 positional arguments but 3 were given",
     "output_type": "error",
     "traceback": [
      "\u001b[1;31m---------------------------------------------------------------------------\u001b[0m",
      "\u001b[1;31mTypeError\u001b[0m                                 Traceback (most recent call last)",
      "Input \u001b[1;32mIn [39]\u001b[0m, in \u001b[0;36m<cell line: 8>\u001b[1;34m()\u001b[0m\n\u001b[0;32m      5\u001b[0m     \u001b[38;5;28;01mfor\u001b[39;00m valu \u001b[38;5;129;01min\u001b[39;00m ramu:\n\u001b[0;32m      6\u001b[0m         \u001b[38;5;28mprint\u001b[39m(valu)\n\u001b[1;32m----> 8\u001b[0m \u001b[43mname\u001b[49m\u001b[43m(\u001b[49m\u001b[38;5;124;43m\"\u001b[39;49m\u001b[38;5;124;43mvicky\u001b[39;49m\u001b[38;5;124;43m\"\u001b[39;49m\u001b[43m,\u001b[49m\u001b[38;5;241;43m567890\u001b[39;49m\u001b[43m,\u001b[49m\u001b[38;5;124;43m\"\u001b[39;49m\u001b[38;5;124;43mdfghjk\u001b[39;49m\u001b[38;5;124;43m\"\u001b[39;49m\u001b[43m)\u001b[49m\n",
      "\u001b[1;31mTypeError\u001b[0m: name() takes 0 positional arguments but 3 were given"
     ]
    }
   ],
   "source": [
    "# withuot maintion variable names\n",
    "\n",
    "def name (**ramu):\n",
    "    print(ramu)\n",
    "    for valu in ramu:\n",
    "        print(valu)\n",
    "    \n",
    "name(\"vicky\",567890,\"dfghjk\")"
   ]
  },
  {
   "cell_type": "code",
   "execution_count": 41,
   "metadata": {},
   "outputs": [
    {
     "name": "stdout",
     "output_type": "stream",
     "text": [
      "{'names': 'vicky', 'no': 567890, 'address': 'jaipur'}\n",
      "names\n",
      "no\n",
      "address\n"
     ]
    }
   ],
   "source": [
    "def name (**ramu):\n",
    "    print(ramu)       # this is a dict format\n",
    "    for valu in ramu:\n",
    "        print(valu)\n",
    "    \n",
    "name(names=\"vicky\",no=567890,address=\"jaipur\") "
   ]
  },
  {
   "cell_type": "code",
   "execution_count": 46,
   "metadata": {},
   "outputs": [
    {
     "name": "stdout",
     "output_type": "stream",
     "text": [
      "567890\n",
      "jaipur\n",
      "vicky\n"
     ]
    }
   ],
   "source": [
    "def name (**ramu):\n",
    "    print(ramu[\"no\"])\n",
    "    print(ramu[\"address\"])\n",
    "    print(ramu[\"names\"])\n",
    "    \n",
    "name(names=\"vicky\",no=567890,address=\"jaipur\") "
   ]
  },
  {
   "cell_type": "code",
   "execution_count": null,
   "metadata": {},
   "outputs": [],
   "source": []
  }
 ],
 "metadata": {
  "kernelspec": {
   "display_name": "Python 3 (ipykernel)",
   "language": "python",
   "name": "python3"
  },
  "language_info": {
   "codemirror_mode": {
    "name": "ipython",
    "version": 3
   },
   "file_extension": ".py",
   "mimetype": "text/x-python",
   "name": "python",
   "nbconvert_exporter": "python",
   "pygments_lexer": "ipython3",
   "version": "3.10.5"
  }
 },
 "nbformat": 4,
 "nbformat_minor": 4
}
