{
 "cells": [
  {
   "cell_type": "code",
   "execution_count": null,
   "metadata": {},
   "outputs": [],
   "source": [
    "   "
   ]
  },
  {
   "cell_type": "markdown",
   "metadata": {},
   "source": [
    "# selary question"
   ]
  },
  {
   "cell_type": "code",
   "execution_count": 1,
   "metadata": {},
   "outputs": [
    {
     "data": {
      "text/plain": [
       "{'name': 'vicky', 'selary': 10000}"
      ]
     },
     "execution_count": 1,
     "metadata": {},
     "output_type": "execute_result"
    }
   ],
   "source": [
    "a = 10000\n",
    "def user(name,selary=10000):\n",
    "    if selary<10000 or selary > 10000:\n",
    "        return({\"name\":name,\"selary\":selary})\n",
    "    return({\"name\":name,\"selary\":selary})\n",
    "user(name=\"vicky\")"
   ]
  },
  {
   "cell_type": "code",
   "execution_count": null,
   "metadata": {},
   "outputs": [],
   "source": []
  },
  {
   "cell_type": "code",
   "execution_count": null,
   "metadata": {},
   "outputs": [],
   "source": [
    "# ham list ko as key bana sakte hai ya nhi "
   ]
  },
  {
   "cell_type": "code",
   "execution_count": 2,
   "metadata": {},
   "outputs": [
    {
     "ename": "TypeError",
     "evalue": "unhashable type: 'list'",
     "output_type": "error",
     "traceback": [
      "\u001b[1;31m---------------------------------------------------------------------------\u001b[0m",
      "\u001b[1;31mTypeError\u001b[0m                                 Traceback (most recent call last)",
      "Input \u001b[1;32mIn [2]\u001b[0m, in \u001b[0;36m<cell line: 1>\u001b[1;34m()\u001b[0m\n\u001b[1;32m----> 1\u001b[0m bd \u001b[38;5;241m=\u001b[39m {[\u001b[38;5;124m\"\u001b[39m\u001b[38;5;124mvicky\u001b[39m\u001b[38;5;124m\"\u001b[39m,\u001b[38;5;241m123\u001b[39m]:\u001b[38;5;124m\"\u001b[39m\u001b[38;5;124mha bana sakte hai\u001b[39m\u001b[38;5;124m\"\u001b[39m}\n\u001b[0;32m      2\u001b[0m \u001b[38;5;28mprint\u001b[39m(bd)\n",
      "\u001b[1;31mTypeError\u001b[0m: unhashable type: 'list'"
     ]
    }
   ],
   "source": [
    "bd = {[\"vicky\",123]:\"ha bana sakte hai\"}\n",
    "print(bd)"
   ]
  },
  {
   "cell_type": "code",
   "execution_count": null,
   "metadata": {},
   "outputs": [],
   "source": []
  },
  {
   "cell_type": "raw",
   "metadata": {},
   "source": [
    "# list ko jodna & to concatenate lists"
   ]
  },
  {
   "cell_type": "code",
   "execution_count": null,
   "metadata": {},
   "outputs": [],
   "source": [
    "a = [1, 2]\n",
    "b = [2, 3]\n",
    "a.extend(b)\n",
    "print(a)"
   ]
  },
  {
   "cell_type": "code",
   "execution_count": null,
   "metadata": {},
   "outputs": [],
   "source": [
    "c = [9,8]\n",
    "d = [90,45,'vicky']\n",
    "c += d\n",
    "print(c)"
   ]
  },
  {
   "cell_type": "code",
   "execution_count": null,
   "metadata": {},
   "outputs": [],
   "source": []
  },
  {
   "cell_type": "code",
   "execution_count": 3,
   "metadata": {},
   "outputs": [
    {
     "ename": "ModuleNotFoundError",
     "evalue": "No module named 'dotenv'",
     "output_type": "error",
     "traceback": [
      "\u001b[1;31m---------------------------------------------------------------------------\u001b[0m",
      "\u001b[1;31mModuleNotFoundError\u001b[0m                       Traceback (most recent call last)",
      "Input \u001b[1;32mIn [3]\u001b[0m, in \u001b[0;36m<cell line: 2>\u001b[1;34m()\u001b[0m\n\u001b[0;32m      1\u001b[0m \u001b[38;5;28;01mimport\u001b[39;00m \u001b[38;5;21;01mos\u001b[39;00m\n\u001b[1;32m----> 2\u001b[0m \u001b[38;5;28;01mfrom\u001b[39;00m \u001b[38;5;21;01mdotenv\u001b[39;00m \u001b[38;5;28;01mimport\u001b[39;00m load_dotenv\n\u001b[0;32m      4\u001b[0m load_dotenv()\n\u001b[0;32m      6\u001b[0m GCP_PROJECT_ID \u001b[38;5;241m=\u001b[39m os\u001b[38;5;241m.\u001b[39mgetenv(\u001b[38;5;124m'\u001b[39m\u001b[38;5;124mabc\u001b[39m\u001b[38;5;124m'\u001b[39m)\n",
      "\u001b[1;31mModuleNotFoundError\u001b[0m: No module named 'dotenv'"
     ]
    }
   ],
   "source": [
    "import os\n",
    "from dotenv import load_dotenv\n",
    "\n",
    "load_dotenv()\n",
    "\n",
    "GCP_PROJECT_ID = os.getenv('abc')\n",
    "print(GCP_PROJECT_ID)\n",
    "#env_var = os.environ.get['ENV']"
   ]
  },
  {
   "cell_type": "code",
   "execution_count": 4,
   "metadata": {},
   "outputs": [
    {
     "ename": "TypeError",
     "evalue": "Mapping.get() missing 1 required positional argument: 'key'",
     "output_type": "error",
     "traceback": [
      "\u001b[1;31m---------------------------------------------------------------------------\u001b[0m",
      "\u001b[1;31mTypeError\u001b[0m                                 Traceback (most recent call last)",
      "Input \u001b[1;32mIn [4]\u001b[0m, in \u001b[0;36m<cell line: 1>\u001b[1;34m()\u001b[0m\n\u001b[1;32m----> 1\u001b[0m env_var \u001b[38;5;241m=\u001b[39m \u001b[43mos\u001b[49m\u001b[38;5;241;43m.\u001b[39;49m\u001b[43menviron\u001b[49m\u001b[38;5;241;43m.\u001b[39;49m\u001b[43mget\u001b[49m\u001b[43m(\u001b[49m\u001b[43m)\u001b[49m\n\u001b[0;32m      2\u001b[0m \u001b[38;5;28mprint\u001b[39m(env_var)\n",
      "\u001b[1;31mTypeError\u001b[0m: Mapping.get() missing 1 required positional argument: 'key'"
     ]
    }
   ],
   "source": [
    "env_var = os.environ.get()\n",
    "print(env_var)\n"
   ]
  },
  {
   "cell_type": "code",
   "execution_count": null,
   "metadata": {},
   "outputs": [],
   "source": [
    "7%2"
   ]
  },
  {
   "cell_type": "code",
   "execution_count": null,
   "metadata": {},
   "outputs": [],
   "source": [
    "5 % 7"
   ]
  },
  {
   "cell_type": "code",
   "execution_count": null,
   "metadata": {},
   "outputs": [],
   "source": [
    "3%2"
   ]
  },
  {
   "cell_type": "code",
   "execution_count": null,
   "metadata": {},
   "outputs": [],
   "source": [
    "6%2"
   ]
  },
  {
   "cell_type": "code",
   "execution_count": null,
   "metadata": {},
   "outputs": [],
   "source": [
    "2%4"
   ]
  },
  {
   "cell_type": "code",
   "execution_count": null,
   "metadata": {},
   "outputs": [],
   "source": [
    "7/2"
   ]
  },
  {
   "cell_type": "code",
   "execution_count": null,
   "metadata": {},
   "outputs": [],
   "source": [
    "2/7"
   ]
  },
  {
   "cell_type": "code",
   "execution_count": null,
   "metadata": {},
   "outputs": [],
   "source": [
    "2**3"
   ]
  },
  {
   "cell_type": "code",
   "execution_count": null,
   "metadata": {},
   "outputs": [],
   "source": [
    "3**2"
   ]
  },
  {
   "cell_type": "code",
   "execution_count": null,
   "metadata": {},
   "outputs": [],
   "source": [
    "2**4"
   ]
  },
  {
   "cell_type": "code",
   "execution_count": null,
   "metadata": {},
   "outputs": [],
   "source": [
    "4 // 3"
   ]
  },
  {
   "cell_type": "code",
   "execution_count": null,
   "metadata": {},
   "outputs": [],
   "source": [
    "6 // 4 "
   ]
  },
  {
   "cell_type": "code",
   "execution_count": null,
   "metadata": {},
   "outputs": [],
   "source": [
    "25 != 8"
   ]
  },
  {
   "cell_type": "code",
   "execution_count": null,
   "metadata": {},
   "outputs": [],
   "source": [
    "a = 5\n",
    "b = 2\n",
    "c = 3"
   ]
  },
  {
   "cell_type": "code",
   "execution_count": null,
   "metadata": {},
   "outputs": [],
   "source": [
    "a = b + c\n",
    "print(a)"
   ]
  },
  {
   "cell_type": "code",
   "execution_count": null,
   "metadata": {},
   "outputs": [],
   "source": [
    "b = a + c\n",
    "print(b)"
   ]
  },
  {
   "cell_type": "code",
   "execution_count": null,
   "metadata": {},
   "outputs": [],
   "source": [
    "a += b\n",
    "a"
   ]
  },
  {
   "cell_type": "code",
   "execution_count": null,
   "metadata": {},
   "outputs": [],
   "source": [
    "a -= b\n",
    "a"
   ]
  },
  {
   "cell_type": "code",
   "execution_count": null,
   "metadata": {},
   "outputs": [],
   "source": [
    "b %= a\n",
    "b"
   ]
  },
  {
   "cell_type": "code",
   "execution_count": null,
   "metadata": {},
   "outputs": [],
   "source": [
    "d = 4\n",
    "e = 8\n",
    "f = 9"
   ]
  },
  {
   "cell_type": "code",
   "execution_count": null,
   "metadata": {},
   "outputs": [],
   "source": []
  },
  {
   "cell_type": "code",
   "execution_count": null,
   "metadata": {},
   "outputs": [],
   "source": [
    "d > e and d > f"
   ]
  },
  {
   "cell_type": "code",
   "execution_count": null,
   "metadata": {},
   "outputs": [],
   "source": [
    "d > e and d < f"
   ]
  },
  {
   "cell_type": "code",
   "execution_count": null,
   "metadata": {},
   "outputs": [],
   "source": [
    "d < e and d < f"
   ]
  },
  {
   "cell_type": "code",
   "execution_count": null,
   "metadata": {},
   "outputs": [],
   "source": [
    "d > e "
   ]
  },
  {
   "cell_type": "code",
   "execution_count": null,
   "metadata": {},
   "outputs": [],
   "source": [
    "not d > e"
   ]
  },
  {
   "cell_type": "code",
   "execution_count": null,
   "metadata": {},
   "outputs": [],
   "source": [
    "not d < e"
   ]
  },
  {
   "cell_type": "code",
   "execution_count": null,
   "metadata": {},
   "outputs": [],
   "source": [
    "d > e or d > f"
   ]
  },
  {
   "cell_type": "code",
   "execution_count": null,
   "metadata": {},
   "outputs": [],
   "source": [
    "d < e or d > f"
   ]
  },
  {
   "cell_type": "code",
   "execution_count": null,
   "metadata": {},
   "outputs": [],
   "source": [
    "d is e"
   ]
  },
  {
   "cell_type": "code",
   "execution_count": null,
   "metadata": {},
   "outputs": [],
   "source": [
    "d is not e"
   ]
  },
  {
   "cell_type": "code",
   "execution_count": null,
   "metadata": {},
   "outputs": [],
   "source": [
    "g = 4\n",
    "d is g"
   ]
  },
  {
   "cell_type": "code",
   "execution_count": null,
   "metadata": {},
   "outputs": [],
   "source": [
    "d is not g"
   ]
  },
  {
   "cell_type": "code",
   "execution_count": null,
   "metadata": {},
   "outputs": [],
   "source": [
    "h = 'bchfhu'\n",
    "h in 'bchfhu'"
   ]
  },
  {
   "cell_type": "code",
   "execution_count": null,
   "metadata": {},
   "outputs": [],
   "source": [
    "q = [89,'hf',77,'fhg','d']\n",
    "u = 'd'\n",
    "u in q"
   ]
  },
  {
   "cell_type": "code",
   "execution_count": null,
   "metadata": {},
   "outputs": [],
   "source": [
    "u not in q"
   ]
  },
  {
   "cell_type": "code",
   "execution_count": null,
   "metadata": {},
   "outputs": [],
   "source": [
    "u = 33\n",
    "u not in q"
   ]
  },
  {
   "cell_type": "code",
   "execution_count": null,
   "metadata": {},
   "outputs": [],
   "source": [
    "x = 8\n",
    "y = 5\n",
    "z = 7"
   ]
  },
  {
   "cell_type": "code",
   "execution_count": null,
   "metadata": {},
   "outputs": [],
   "source": []
  },
  {
   "cell_type": "code",
   "execution_count": null,
   "metadata": {},
   "outputs": [],
   "source": [
    "# Q  . write a program of print odd number between  1 to 100"
   ]
  },
  {
   "cell_type": "code",
   "execution_count": null,
   "metadata": {},
   "outputs": [],
   "source": [
    "give_no = input(\"enter your no . :\", )\n",
    "# print(give_no)\n",
    "# print(type(give_no))\n",
    "ele = int(give_no)\n",
    "# print(type(ele))\n",
    "# ele\n",
    "for i in range(1,ele + 1):\n",
    "    if i % 2 == 0 :\n",
    "        pass\n",
    "    else:\n",
    "        print(\"no. is odd \", i)"
   ]
  },
  {
   "cell_type": "code",
   "execution_count": null,
   "metadata": {},
   "outputs": [],
   "source": [
    "give_no = input(\"enter your no . :\", )\n",
    "# print(give_no)\n",
    "# print(type(give_no))\n",
    "ele = int(give_no)\n",
    "# print(type(ele))\n",
    "# ele\n",
    "for i in range(1,ele +1):\n",
    "    if i % 2 == 0 :\n",
    "        print(\"no is even\", i)\n",
    "    else:\n",
    "        print(\"no. is odd :- \",     i)"
   ]
  },
  {
   "cell_type": "code",
   "execution_count": null,
   "metadata": {},
   "outputs": [],
   "source": [
    "for k in range(4):\n",
    "    print(\"*\",end ='')\n",
    "    "
   ]
  },
  {
   "cell_type": "code",
   "execution_count": null,
   "metadata": {},
   "outputs": [],
   "source": [
    "2 * 0"
   ]
  },
  {
   "cell_type": "code",
   "execution_count": null,
   "metadata": {},
   "outputs": [],
   "source": [
    "0 - 1"
   ]
  },
  {
   "cell_type": "code",
   "execution_count": null,
   "metadata": {},
   "outputs": [],
   "source": [
    "dd = \"i am namchi gunda ha ha \"\n",
    "vv = 'gunda ' .join(\"spret\")\n",
    "print(vv)"
   ]
  },
  {
   "cell_type": "code",
   "execution_count": null,
   "metadata": {},
   "outputs": [],
   "source": [
    "set1 = {\"jskfj\",6890,987,'hjj',78,'hjj', 78}\n",
    "# print(type(set1))\n",
    "# set1\n",
    "# set1[0]\n",
    "# print(set1)\n",
    "for iei in set1:\n",
    "    print(iei)   #  this is unorderd "
   ]
  },
  {
   "cell_type": "code",
   "execution_count": null,
   "metadata": {},
   "outputs": [],
   "source": []
  },
  {
   "cell_type": "code",
   "execution_count": null,
   "metadata": {},
   "outputs": [],
   "source": [
    "class Ram :\n",
    "    def __init__(self, name , contact , email):\n",
    "        self.name = name\n",
    "        self.contact = contact\n",
    "        self.email = email\n",
    "    def myfunc (self):\n",
    "        print(\"my name is \" + self.name)\n",
    "    \n",
    "R = Ram (\"shita\", 95095,\"ram55@gmail.com\")\n",
    "R1 = Ram(\"lal bag\",12345,\"lala123@gmail.com\")\n",
    "print(R.name)\n",
    "print(R1.contact)\n",
    "R.myfunc()\n",
    "R1.myfunc()"
   ]
  },
  {
   "cell_type": "code",
   "execution_count": null,
   "metadata": {},
   "outputs": [],
   "source": []
  },
  {
   "cell_type": "code",
   "execution_count": null,
   "metadata": {},
   "outputs": [],
   "source": [
    "# Q.  remove duplicate elements in the list"
   ]
  },
  {
   "cell_type": "code",
   "execution_count": null,
   "metadata": {},
   "outputs": [],
   "source": [
    "list1=[10,\"hi\",20,30,10,30,\"vicky\",\"hi\"]\n",
    "list2=[]\n",
    "for ele in list1:\n",
    "    if ele not in list2:\n",
    "        list2.append(ele)\n",
    "print(\"duplicate free list :- \", list2)\n"
   ]
  },
  {
   "cell_type": "code",
   "execution_count": null,
   "metadata": {},
   "outputs": [],
   "source": []
  },
  {
   "cell_type": "code",
   "execution_count": null,
   "metadata": {},
   "outputs": [],
   "source": [
    "# how to leanth in list"
   ]
  },
  {
   "cell_type": "code",
   "execution_count": null,
   "metadata": {},
   "outputs": [],
   "source": [
    "list21 = [12,'ffd',33,423,\"dsf\",'dsdsffsf',3232,32222,222,2,2,2,2,]\n",
    "\n",
    "list22 = 0\n",
    "\n",
    "for i2 in list21:\n",
    "    list22 = list22+1\n",
    "print(list22)"
   ]
  },
  {
   "cell_type": "code",
   "execution_count": null,
   "metadata": {},
   "outputs": [],
   "source": [
    "len2 = len(list21)\n",
    "print(len2)"
   ]
  },
  {
   "cell_type": "code",
   "execution_count": null,
   "metadata": {},
   "outputs": [],
   "source": [
    "# parectics of list method\n",
    "list12 = [143, 'jk',43,'ram']\n",
    "\n",
    "# 1. append method\n",
    "list12.append(3455)\n",
    "print(list12)\n"
   ]
  },
  {
   "cell_type": "code",
   "execution_count": null,
   "metadata": {},
   "outputs": [],
   "source": [
    "list13 = ['dsd',9484,'dfdf',]\n",
    "list12.append(list13)\n",
    "print(list12)"
   ]
  },
  {
   "cell_type": "code",
   "execution_count": null,
   "metadata": {},
   "outputs": [],
   "source": [
    "# 2. extend method\n",
    "\n",
    "list12.extend(\"123321\")\n",
    "print(list12)"
   ]
  },
  {
   "cell_type": "code",
   "execution_count": null,
   "metadata": {},
   "outputs": [],
   "source": [
    "list14 = ['dd',34,'fdfd']\n",
    "list12.extend(list14)\n",
    "print(list12)"
   ]
  },
  {
   "cell_type": "code",
   "execution_count": null,
   "metadata": {},
   "outputs": [],
   "source": [
    "# sort method\n",
    "list15 = [12,65,33,67,90,45,24]\n",
    "list15.sort()\n",
    "print(list15)"
   ]
  },
  {
   "cell_type": "code",
   "execution_count": null,
   "metadata": {},
   "outputs": [],
   "source": [
    "list16 = ['a','z','d','c']\n",
    "list16.sort()\n",
    "list16"
   ]
  },
  {
   "cell_type": "code",
   "execution_count": null,
   "metadata": {},
   "outputs": [],
   "source": [
    "list17 = ['abcd','uxyz','ef']\n",
    "list17.sort()\n",
    "print(list17)"
   ]
  },
  {
   "cell_type": "code",
   "execution_count": null,
   "metadata": {},
   "outputs": [],
   "source": [
    "list18 = ['asdf','zbac','gjk','czak']\n",
    "list18.sort()\n",
    "list18"
   ]
  },
  {
   "cell_type": "code",
   "execution_count": null,
   "metadata": {},
   "outputs": [],
   "source": [
    "# pop method\n",
    "\n",
    "list18.pop(0)\n",
    "print(list18)"
   ]
  },
  {
   "cell_type": "code",
   "execution_count": null,
   "metadata": {},
   "outputs": [],
   "source": [
    "# index method\n",
    "inde = list12.index('fdfd')\n",
    "print(list12)\n",
    "print(\"index no :-\", inde)"
   ]
  },
  {
   "cell_type": "code",
   "execution_count": null,
   "metadata": {},
   "outputs": [],
   "source": [
    "# insert method\n",
    "list18.insert(1,\"jgj\")\n",
    "list18"
   ]
  },
  {
   "cell_type": "code",
   "execution_count": null,
   "metadata": {},
   "outputs": [],
   "source": [
    "# remove method\n",
    "list18.remove('zbac')\n",
    "print(list18)"
   ]
  },
  {
   "cell_type": "code",
   "execution_count": null,
   "metadata": {},
   "outputs": [],
   "source": []
  },
  {
   "cell_type": "code",
   "execution_count": null,
   "metadata": {},
   "outputs": [],
   "source": [
    "# str concanet \n",
    "\n",
    "name = 'vicky'\n",
    "greting = 'good morning'\n",
    "print(\"hello \" + name,'' + greting)"
   ]
  },
  {
   "cell_type": "code",
   "execution_count": null,
   "metadata": {},
   "outputs": [],
   "source": [
    "dict23 = {}\n",
    "dict23['c'] = 1\n",
    "dict23"
   ]
  },
  {
   "cell_type": "code",
   "execution_count": null,
   "metadata": {},
   "outputs": [],
   "source": [
    "# dictionary query \n",
    "\n",
    "dict32 = {\"name\":\"lalu\",12:\"fhj\",\"no\":567}\n",
    "dict32"
   ]
  },
  {
   "cell_type": "code",
   "execution_count": null,
   "metadata": {},
   "outputs": [],
   "source": [
    "dict32.keys()"
   ]
  },
  {
   "cell_type": "code",
   "execution_count": null,
   "metadata": {},
   "outputs": [],
   "source": [
    "dict32.values()"
   ]
  },
  {
   "cell_type": "code",
   "execution_count": null,
   "metadata": {},
   "outputs": [],
   "source": []
  },
  {
   "cell_type": "code",
   "execution_count": null,
   "metadata": {},
   "outputs": [],
   "source": [
    "dict32.items()"
   ]
  },
  {
   "cell_type": "code",
   "execution_count": null,
   "metadata": {},
   "outputs": [],
   "source": []
  },
  {
   "cell_type": "code",
   "execution_count": null,
   "metadata": {},
   "outputs": [],
   "source": [
    "import array as arr\n",
    "\n",
    "my_array = arr.array('r',[1,3,4,5,5])\n",
    "print(type(my_array))"
   ]
  },
  {
   "cell_type": "code",
   "execution_count": null,
   "metadata": {},
   "outputs": [],
   "source": [
    "my_array = arr.array('d',[1,3,4,5,5])\n",
    "print(type(my_array))"
   ]
  },
  {
   "cell_type": "code",
   "execution_count": null,
   "metadata": {},
   "outputs": [],
   "source": []
  },
  {
   "cell_type": "code",
   "execution_count": null,
   "metadata": {},
   "outputs": [],
   "source": []
  },
  {
   "cell_type": "code",
   "execution_count": null,
   "metadata": {},
   "outputs": [],
   "source": [
    "#  what is function in python and type of function arguments explain"
   ]
  },
  {
   "cell_type": "code",
   "execution_count": null,
   "metadata": {},
   "outputs": [],
   "source": [
    "# ANS . \n",
    "\n",
    "#  function is a block of code / collecation of code which is execued when it is called\n",
    "#  type of function arguments\n",
    "#  1.  Default function argument\n",
    "#  2.  keyword argument\n",
    "#  3.  positional argument\n",
    "#  4.  abitrary keyword argument\n",
    "#  5.  abitrary positional argument"
   ]
  },
  {
   "cell_type": "code",
   "execution_count": null,
   "metadata": {},
   "outputs": [],
   "source": []
  },
  {
   "cell_type": "code",
   "execution_count": null,
   "metadata": {},
   "outputs": [],
   "source": [
    "# 1. Default argument \n",
    "\n",
    "def add (a,b=3,c=5):\n",
    "    return (a+b+c)\n",
    "print(add(2))"
   ]
  },
  {
   "cell_type": "code",
   "execution_count": null,
   "metadata": {},
   "outputs": [],
   "source": [
    "def add1 (a,b=3,c=5):\n",
    "    return (a+b+c)\n",
    "print(add1(2,4,6))\n",
    "\n"
   ]
  },
  {
   "cell_type": "code",
   "execution_count": null,
   "metadata": {},
   "outputs": [],
   "source": [
    "#  keyword argument\n",
    "def add2 (a,b=5,c=10):\n",
    "    return (a+b+c)\n",
    "print(add2(b = 2, c = 5, a = 9))"
   ]
  },
  {
   "cell_type": "code",
   "execution_count": null,
   "metadata": {},
   "outputs": [],
   "source": [
    "def add3 (a,b=5,c=10):\n",
    "    return (a+b+c)\n",
    "print(add3( a = 9))"
   ]
  },
  {
   "cell_type": "code",
   "execution_count": null,
   "metadata": {},
   "outputs": [],
   "source": [
    "# positional argument"
   ]
  },
  {
   "cell_type": "code",
   "execution_count": null,
   "metadata": {},
   "outputs": [],
   "source": [
    "def add4(a,b,c):\n",
    "    print(\"a\",a)\n",
    "    print(\"b\",b)\n",
    "    print(\"c\",c)\n",
    "    return a+b+c\n",
    "add4(2,4,3)"
   ]
  },
  {
   "cell_type": "code",
   "execution_count": null,
   "metadata": {},
   "outputs": [],
   "source": []
  },
  {
   "cell_type": "code",
   "execution_count": null,
   "metadata": {},
   "outputs": [],
   "source": []
  },
  {
   "cell_type": "code",
   "execution_count": null,
   "metadata": {},
   "outputs": [],
   "source": [
    "# Variable length arguments / abitrary positional argument\n",
    "\n",
    "def fun(*name,x):\n",
    "    print(x)\n",
    "    for i13 in name:\n",
    "        print(i13)\n",
    "name_list = [\"ram\", \"lala\", \"vicky\", \"raju\"]\n",
    "fun (*name_list,x = 9)"
   ]
  },
  {
   "cell_type": "code",
   "execution_count": null,
   "metadata": {},
   "outputs": [],
   "source": [
    "def fun1(a,b,c):\n",
    "    print(a,b,c)\n",
    "fun1(a =  \"ramu\",b = \"raju\", c = \"baba\")"
   ]
  },
  {
   "cell_type": "code",
   "execution_count": null,
   "metadata": {},
   "outputs": [],
   "source": [
    "# keyword Variable length arguments / abitrary keyword argument\n",
    "def fun2 (**args):\n",
    "    for key, value in args.items():\n",
    "        print(key)\n",
    "\n",
    "rs = {\"name\":\"vicky\",\"Roll\":22,\"email\":\"vvhfrn@gmail.com\",\"address\":\"jaipur\"}\n",
    "fun2(**rs)"
   ]
  },
  {
   "cell_type": "code",
   "execution_count": null,
   "metadata": {},
   "outputs": [],
   "source": [
    "d = {\"cc\":\"jdfj\",445:44}\n",
    "d[\"name\"]=\"vicky\"\n",
    "d"
   ]
  },
  {
   "cell_type": "code",
   "execution_count": null,
   "metadata": {},
   "outputs": [],
   "source": [
    "d.pop(\"name\")\n",
    "d"
   ]
  },
  {
   "cell_type": "code",
   "execution_count": null,
   "metadata": {},
   "outputs": [],
   "source": [
    "d.popitem()\n",
    "d"
   ]
  },
  {
   "cell_type": "code",
   "execution_count": null,
   "metadata": {},
   "outputs": [],
   "source": [
    "f = d.pop(\"name\")\n",
    "print(f)\n",
    "print(d)"
   ]
  },
  {
   "cell_type": "code",
   "execution_count": null,
   "metadata": {},
   "outputs": [],
   "source": [
    "# make a class parsion\n",
    "\n",
    "class parsion:\n",
    "    def __init__(self, name ,age):\n",
    "        self.name = name\n",
    "        self.age = age\n",
    "        \n",
    "p1 = parsion(\"vicky\",67)\n",
    "print(p1.name)\n",
    "print(p1.age)"
   ]
  },
  {
   "cell_type": "code",
   "execution_count": null,
   "metadata": {},
   "outputs": [],
   "source": [
    "class paaa():\n",
    "    name = \"ccc\"\n",
    "p = paaa()\n",
    "print(p.x)"
   ]
  },
  {
   "cell_type": "code",
   "execution_count": null,
   "metadata": {},
   "outputs": [],
   "source": []
  },
  {
   "cell_type": "code",
   "execution_count": null,
   "metadata": {},
   "outputs": [],
   "source": [
    "# Q. what is constructor in python \n",
    "# ANS.  python is supports of specials type of method so it is called \n",
    "#       constructor for initionlize the intance varibles of a class\n",
    "#  "
   ]
  },
  {
   "cell_type": "code",
   "execution_count": null,
   "metadata": {},
   "outputs": [],
   "source": [
    "# constructor\n",
    "\n",
    "class mobile:            #   constructore called\n",
    "    def __init__(self):\n",
    "        print(\"called mobile constructor\")\n",
    "mm = mobile()\n",
    "        "
   ]
  },
  {
   "cell_type": "code",
   "execution_count": null,
   "metadata": {},
   "outputs": [],
   "source": [
    "# without argument constructor\n",
    "\n",
    "class phone:\n",
    "    def __init__(self):\n",
    "        self.name = \"jdhdh\"\n",
    "        \n",
    "p1 = phone()\n",
    "print(p1.name)"
   ]
  },
  {
   "cell_type": "code",
   "execution_count": null,
   "metadata": {},
   "outputs": [],
   "source": [
    "# with Arguments constructor\n",
    "\n",
    "class model2:\n",
    "    def __init__ (self, name, price = 34000):\n",
    "        self.name = name\n",
    "        self.price = price\n",
    "m = model2(\"car\")\n",
    "\n",
    "print(m.price)"
   ]
  },
  {
   "cell_type": "code",
   "execution_count": null,
   "metadata": {},
   "outputs": [],
   "source": []
  },
  {
   "cell_type": "code",
   "execution_count": null,
   "metadata": {},
   "outputs": [],
   "source": [
    "list325 = [1,8,94,8]\n",
    "list325[-1::-1]"
   ]
  },
  {
   "cell_type": "code",
   "execution_count": null,
   "metadata": {},
   "outputs": [],
   "source": [
    "str343 = \"\"\n",
    "str232 = \"bangalore\"\n",
    "print(reverse(str232))"
   ]
  },
  {
   "cell_type": "code",
   "execution_count": null,
   "metadata": {},
   "outputs": [],
   "source": [
    "str343 = str343 + \"a\""
   ]
  },
  {
   "cell_type": "code",
   "execution_count": null,
   "metadata": {},
   "outputs": [],
   "source": [
    "str343 = str343 + \"b\""
   ]
  },
  {
   "cell_type": "code",
   "execution_count": null,
   "metadata": {},
   "outputs": [],
   "source": [
    "str343"
   ]
  },
  {
   "cell_type": "code",
   "execution_count": null,
   "metadata": {},
   "outputs": [],
   "source": []
  },
  {
   "cell_type": "code",
   "execution_count": null,
   "metadata": {},
   "outputs": [],
   "source": [
    "# reverse a string without inbuild function\n",
    "\n",
    "str34 = \"asdfghjkl\"\n",
    "str34[::-1]"
   ]
  },
  {
   "cell_type": "code",
   "execution_count": null,
   "metadata": {},
   "outputs": [],
   "source": [
    "# wap swape tow last element 1st position like [1,3,89,34,68,54] output [68,54,1,3,89,34]\n",
    "test_list = [1,3,89,34,68,54]\n",
    "f = []\n",
    "for ij in test_list:\n",
    "    f.append(ij)\n",
    "    \n",
    "# for il in f:\n",
    "#     test_list.append(test_list.pop(test_list.index(il)))\n",
    "# test_list\n",
    "    "
   ]
  },
  {
   "cell_type": "code",
   "execution_count": null,
   "metadata": {},
   "outputs": [],
   "source": [
    "d = [1,3,89,34,68,54]\n",
    "s=[]\n",
    "for kj in range(4,6):\n",
    "    s.insert(kj,d[kj])\n",
    "for jk in range(0,4):\n",
    "    s.append(d[jk])\n",
    "s"
   ]
  },
  {
   "cell_type": "code",
   "execution_count": null,
   "metadata": {},
   "outputs": [],
   "source": [
    "s.insert(0,8)\n",
    "s"
   ]
  },
  {
   "cell_type": "code",
   "execution_count": null,
   "metadata": {},
   "outputs": [],
   "source": [
    "# wap you can find the element in list\n",
    "\n",
    "list09 = [94,85,0,13,2,4,1,6,98,23,3,5,8]\n",
    "find_no = int(input(\"Enter search number : - \", ))\n",
    "for ele1 in list09:\n",
    "    if ele1 == find_no:\n",
    "        print(\"yes this is avelable\")\n"
   ]
  },
  {
   "cell_type": "code",
   "execution_count": null,
   "metadata": {},
   "outputs": [],
   "source": [
    "tupl3 = (8,45,\"sdfgh\")\n",
    "dict66={}\n",
    "dict66[tupl3]=\"hi\"\n",
    "print(type(dict66))\n"
   ]
  },
  {
   "cell_type": "code",
   "execution_count": null,
   "metadata": {},
   "outputs": [],
   "source": [
    "list390 = [1,5,3,\"dg\"]\n",
    "dict1 = {}\n",
    "dict1[list390]=\"fg\"\n",
    "print(dict1)"
   ]
  },
  {
   "cell_type": "code",
   "execution_count": null,
   "metadata": {},
   "outputs": [],
   "source": [
    "dict23 = {\"df\":57,34:\"rol\"}\n",
    "dict132 = {}\n",
    "dict132[dict23]= \"df\"\n",
    "print(dict132)"
   ]
  },
  {
   "cell_type": "code",
   "execution_count": null,
   "metadata": {},
   "outputs": [],
   "source": [
    "# how to reverse word in string python"
   ]
  },
  {
   "cell_type": "code",
   "execution_count": 1,
   "metadata": {},
   "outputs": [
    {
     "name": "stdout",
     "output_type": "stream",
     "text": [
      "india my love i\n"
     ]
    }
   ],
   "source": [
    "str1 = \"i love my india\"\n",
    "# like \"india my love i\"\n",
    "rev=str1.split()\n",
    "rev.reverse()\n",
    "result = \" \".join(rev)\n",
    "print(result)"
   ]
  },
  {
   "cell_type": "code",
   "execution_count": null,
   "metadata": {},
   "outputs": [],
   "source": [
    "# wap count of frecquency no in list "
   ]
  },
  {
   "cell_type": "code",
   "execution_count": null,
   "metadata": {},
   "outputs": [],
   "source": [
    "list90 = [1,4,2,3,2,1,4,7,5,6,87,4,6,2,1,5,67,4]\n",
    "dict1 = {}\n",
    "for ele in list90:\n",
    "    if ele in dict1:\n",
    "        dict1[ele] += 1\n",
    "    else:\n",
    "        dict1[ele] = 1\n",
    "print(dict1)"
   ]
  },
  {
   "cell_type": "code",
   "execution_count": null,
   "metadata": {},
   "outputs": [],
   "source": [
    "dict1= {1:1,4:1,2:1,3:1,}"
   ]
  },
  {
   "cell_type": "code",
   "execution_count": null,
   "metadata": {},
   "outputs": [],
   "source": []
  },
  {
   "cell_type": "code",
   "execution_count": null,
   "metadata": {},
   "outputs": [],
   "source": [
    "# how to reverse string\n",
    "\n",
    "str1 = \"hi my name is vikas kumar\"\n",
    "re = str1[-1::-1]\n",
    "re"
   ]
  },
  {
   "cell_type": "code",
   "execution_count": null,
   "metadata": {},
   "outputs": [],
   "source": [
    "# reverse word in string\n",
    "\n",
    "str2 = \"hi my name is vikash\"\n",
    "rev = str2.split()\n",
    "rev.reverse()\n",
    "result = \" \".join(rev)\n",
    "print(result)"
   ]
  },
  {
   "cell_type": "code",
   "execution_count": null,
   "metadata": {},
   "outputs": [],
   "source": [
    "# how to check polindrome no and string\n",
    "\n",
    "str3 = \"hi vicky kiya vicky hi\"\n",
    "re1 = str3.split()\n",
    "re1.reverse()\n",
    "result = \" \".join(re1)\n",
    "if str3 == result:\n",
    "    print(\"yes this is string polindrome string \")\n",
    "else:\n",
    "    print(\"not polindrome string\")"
   ]
  },
  {
   "cell_type": "code",
   "execution_count": null,
   "metadata": {},
   "outputs": [],
   "source": [
    "# how to check polindrome number\n",
    "\n",
    "num1 = input(\"Enter check number\")\n",
    "re2 = num1[-1::-1]\n",
    "if num1 == re2:\n",
    "    print(\"yes this is number polindrome number \")\n",
    "else:\n",
    "    print(\"not polindrome number\")"
   ]
  },
  {
   "cell_type": "code",
   "execution_count": 2,
   "metadata": {},
   "outputs": [
    {
     "name": "stdout",
     "output_type": "stream",
     "text": [
      "Enter number :- 345\n"
     ]
    }
   ],
   "source": [
    "# how to check armstrong no in python\n",
    "\n",
    "num2 = int(input(\"Enter number :- \"))\n",
    "fact = 0\n",
    "temp = 0 \n",
    "while temp > 0 :\n",
    "    rev2 = temp % 10\n",
    "    result = rev2 ** 3\n",
    "    \n",
    "    "
   ]
  },
  {
   "cell_type": "code",
   "execution_count": null,
   "metadata": {},
   "outputs": [],
   "source": [
    "452 % 10"
   ]
  },
  {
   "cell_type": "code",
   "execution_count": 6,
   "metadata": {},
   "outputs": [
    {
     "name": "stdout",
     "output_type": "stream",
     "text": [
      "enter:-3\n"
     ]
    },
    {
     "data": {
      "text/plain": [
       "[3, 5, 8, 94, 85, 0, 13, 2, 4, 1, 6, 98, 23]"
      ]
     },
     "execution_count": 6,
     "metadata": {},
     "output_type": "execute_result"
    }
   ],
   "source": [
    "list9 = [94,85,0,13,2,4,1,6,98,23,3,5,8]\n",
    "no = int(input(\"enter:-\"))\n",
    "no = no + 1\n",
    "for i in list9[-1:-no:-1]:\n",
    "    list9.insert(0,i)\n",
    "    list9.pop()\n",
    "list9\n"
   ]
  },
  {
   "cell_type": "code",
   "execution_count": null,
   "metadata": {},
   "outputs": [],
   "source": []
  },
  {
   "cell_type": "code",
   "execution_count": 1,
   "metadata": {},
   "outputs": [
    {
     "name": "stdout",
     "output_type": "stream",
     "text": [
      "0\n"
     ]
    }
   ],
   "source": [
    "co = 0 \n",
    "def zxc():\n",
    "    print( co)\n",
    "zxc()"
   ]
  },
  {
   "cell_type": "code",
   "execution_count": 8,
   "metadata": {},
   "outputs": [
    {
     "data": {
      "text/plain": [
       "0"
      ]
     },
     "execution_count": 8,
     "metadata": {},
     "output_type": "execute_result"
    }
   ],
   "source": [
    "hi =0\n",
    "hi"
   ]
  },
  {
   "cell_type": "code",
   "execution_count": 13,
   "metadata": {},
   "outputs": [
    {
     "name": "stdout",
     "output_type": "stream",
     "text": [
      "vicky\n",
      "11\n"
     ]
    }
   ],
   "source": [
    "# create class and object\n",
    "\n",
    "class stude:\n",
    "    def __init__(self,stu_id,name,contact,address,):\n",
    "        self.stu_id = stu_id\n",
    "        self.name = name\n",
    "        self.contact = contact\n",
    "        self.address = address\n",
    "s1 = stude(stu_id = 11,name = \"ashok\",contact = 345678,address = \"jaipur\")\n",
    "s2 = stude(stu_id = 43,name = \"vicky\",contact = 876543,address = \"rampur\")\n",
    "print(s2.name)\n",
    "print(s1.stu_id)"
   ]
  },
  {
   "cell_type": "code",
   "execution_count": 31,
   "metadata": {},
   "outputs": [
    {
     "data": {
      "text/plain": [
       "{}"
      ]
     },
     "execution_count": 31,
     "metadata": {},
     "output_type": "execute_result"
    }
   ],
   "source": [
    "# how to delete and copy dictionary\n",
    "\n",
    "dict2 = {\"name\":\"vicky\",\"contact\":456789,\"address\":\"bikaner\"}\n",
    "dict3 = dict2    #   copy\n",
    "print(dict3)    \n",
    "print(dict2)\n",
    "\n",
    "#     or\n",
    "\n",
    "dict4 = dict2.copy()\n",
    "dict4\n",
    "\n",
    "#  delete dict\n",
    "\n",
    "dict2.pop(\"contact\")\n",
    "dict2\n",
    "\n",
    "#  or\n",
    "\n",
    "dict2.popitem()\n",
    "dict2\n",
    "\n",
    "#   or   \n",
    "del dict2[\"name\"]\n",
    "dict2\n",
    "\n",
    "#   or\n",
    "dict2.clear()\n",
    "dict2"
   ]
  },
  {
   "cell_type": "code",
   "execution_count": 11,
   "metadata": {},
   "outputs": [
    {
     "name": "stdout",
     "output_type": "stream",
     "text": [
      "name\n",
      "123\n",
      "adress\n"
     ]
    }
   ],
   "source": [
    "#  How to get list of all keys in a dictionary?\n",
    "\n",
    "\n",
    "dict312 = {\"name\":245,123:\"ffdf\",\"adress\":\"ffff\"}\n",
    "for io in dict312.keys():\n",
    "    print(io)"
   ]
  },
  {
   "cell_type": "code",
   "execution_count": null,
   "metadata": {},
   "outputs": [],
   "source": []
  },
  {
   "cell_type": "code",
   "execution_count": 46,
   "metadata": {},
   "outputs": [
    {
     "name": "stdout",
     "output_type": "stream",
     "text": [
      "\n",
      "*\n",
      "**\n",
      "***\n",
      "****\n"
     ]
    }
   ],
   "source": [
    "for i in range(5):\n",
    "    for ele in range(i):\n",
    "        print(\"*\",end = \"\")\n",
    "    print()\n",
    "    "
   ]
  },
  {
   "cell_type": "code",
   "execution_count": null,
   "metadata": {},
   "outputs": [],
   "source": []
  },
  {
   "cell_type": "code",
   "execution_count": null,
   "metadata": {},
   "outputs": [],
   "source": []
  },
  {
   "cell_type": "code",
   "execution_count": null,
   "metadata": {},
   "outputs": [],
   "source": [
    "z = 5\n",
    "y = "
   ]
  },
  {
   "cell_type": "code",
   "execution_count": 48,
   "metadata": {},
   "outputs": [],
   "source": [
    "z = 5\n",
    "y = 3"
   ]
  },
  {
   "cell_type": "code",
   "execution_count": 49,
   "metadata": {},
   "outputs": [
    {
     "data": {
      "text/plain": [
       "5"
      ]
     },
     "execution_count": 49,
     "metadata": {},
     "output_type": "execute_result"
    }
   ],
   "source": [
    "z"
   ]
  },
  {
   "cell_type": "code",
   "execution_count": null,
   "metadata": {},
   "outputs": [],
   "source": []
  },
  {
   "cell_type": "code",
   "execution_count": 1,
   "metadata": {},
   "outputs": [
    {
     "ename": "NameError",
     "evalue": "name 'y' is not defined",
     "output_type": "error",
     "traceback": [
      "\u001b[1;31m---------------------------------------------------------------------------\u001b[0m",
      "\u001b[1;31mNameError\u001b[0m                                 Traceback (most recent call last)",
      "Input \u001b[1;32mIn [1]\u001b[0m, in \u001b[0;36m<cell line: 1>\u001b[1;34m()\u001b[0m\n\u001b[1;32m----> 1\u001b[0m \u001b[43my\u001b[49m\n",
      "\u001b[1;31mNameError\u001b[0m: name 'y' is not defined"
     ]
    }
   ],
   "source": [
    "y"
   ]
  },
  {
   "cell_type": "code",
   "execution_count": null,
   "metadata": {},
   "outputs": [],
   "source": [
    " class student:\n",
    "    def lal                                                                                                                                                                                                                                                                                                                                                                                                                                                                                                                                                                                                                                                                                                                                                                                                                                                                                                                                                                                                                                                                                                                                                                                                                                                                                                                                                                                                                                                                                                                                                                                                                                                                                                                                                                                                                                                                                                                                                                                                                                                                                                                                                                                                                                                                                                                                                                                                                                                                                                                                                                                                                                                                                                                                                                                                                                                                                                                                                                                                                                                                                                                                                                                                                                                                                                                                                                                                                                                                                                                                                                                                                                                                                                                                                                                                                                                                                                                                                                                                                                                                                                                                                                                                                                                                                                                                                                                                                                                                                                                                                                                                                                                                                                                                                                                                                                                                                                                                                                                                                                                                                                                                                                                                                                                                                                                                                                                                                                                                                                                                                                                                                                                                                                                                                                                                                                                                                                                                                                                                                                                                                                                                                                                                                                                                                                                                                                                                                                                                                                                                                                                                                                                                                                                                                                                                                                                                                                                                                                                                                                                                                                                                                                                                                                                                                                                                                                                                                                                                                                                                                                                                                                                                                                                                                                                                                                                                                                                                                                                                                                                                                                                                                                                                                                                                                                                                                                                                                                                                                                                                                                                                                                                                                                                                                                                                                                                                                                                                                                                                                                                                                                                                                                                                                                                                                                                                                                                                                                                                                                                                                                                                                                                                                                                                                                                                                                                                                                                                                                                                                                                                                                                                                                                                                                                                                                                                                                                                                                                                                                                                                                                        "
   ]
  },
  {
   "cell_type": "code",
   "execution_count": 6,
   "metadata": {},
   "outputs": [
    {
     "ename": "TypeError",
     "evalue": "unsupported operand type(s) for +: 'int' and 'dict'",
     "output_type": "error",
     "traceback": [
      "\u001b[1;31m---------------------------------------------------------------------------\u001b[0m",
      "\u001b[1;31mTypeError\u001b[0m                                 Traceback (most recent call last)",
      "Input \u001b[1;32mIn [6]\u001b[0m, in \u001b[0;36m<cell line: 4>\u001b[1;34m()\u001b[0m\n\u001b[0;32m      2\u001b[0m     a \u001b[38;5;241m=\u001b[39m \u001b[38;5;241m5\u001b[39m \u001b[38;5;241m+\u001b[39m args\n\u001b[0;32m      3\u001b[0m     \u001b[38;5;28;01mreturn\u001b[39;00m a\n\u001b[1;32m----> 4\u001b[0m \u001b[43maa\u001b[49m\u001b[43m(\u001b[49m\u001b[43ms\u001b[49m\u001b[38;5;241;43m=\u001b[39;49m\u001b[38;5;241;43m4\u001b[39;49m\u001b[43m)\u001b[49m\n",
      "Input \u001b[1;32mIn [6]\u001b[0m, in \u001b[0;36maa\u001b[1;34m(**args)\u001b[0m\n\u001b[0;32m      1\u001b[0m \u001b[38;5;28;01mdef\u001b[39;00m \u001b[38;5;21maa\u001b[39m (\u001b[38;5;241m*\u001b[39m\u001b[38;5;241m*\u001b[39margs):\n\u001b[1;32m----> 2\u001b[0m     a \u001b[38;5;241m=\u001b[39m \u001b[38;5;241;43m5\u001b[39;49m\u001b[43m \u001b[49m\u001b[38;5;241;43m+\u001b[39;49m\u001b[43m \u001b[49m\u001b[43margs\u001b[49m\n\u001b[0;32m      3\u001b[0m     \u001b[38;5;28;01mreturn\u001b[39;00m a\n",
      "\u001b[1;31mTypeError\u001b[0m: unsupported operand type(s) for +: 'int' and 'dict'"
     ]
    }
   ],
   "source": [
    "def aa (**args):\n",
    "    a = 5 + args\n",
    "    return a\n",
    "aa(s=4)"
   ]
  },
  {
   "cell_type": "code",
   "execution_count": 9,
   "metadata": {},
   "outputs": [
    {
     "name": "stdout",
     "output_type": "stream",
     "text": [
      "f\n",
      "f\n",
      "f\n"
     ]
    },
    {
     "ename": "IndexError",
     "evalue": "list index out of range",
     "output_type": "error",
     "traceback": [
      "\u001b[1;31m---------------------------------------------------------------------------\u001b[0m",
      "\u001b[1;31mIndexError\u001b[0m                                Traceback (most recent call last)",
      "Input \u001b[1;32mIn [9]\u001b[0m, in \u001b[0;36m<cell line: 3>\u001b[1;34m()\u001b[0m\n\u001b[0;32m      2\u001b[0m lenth \u001b[38;5;241m=\u001b[39m \u001b[38;5;28mlen\u001b[39m(list1)\n\u001b[0;32m      3\u001b[0m \u001b[38;5;28;01mfor\u001b[39;00m ele \u001b[38;5;129;01min\u001b[39;00m \u001b[38;5;28mrange\u001b[39m(\u001b[38;5;241m0\u001b[39m,lenth,\u001b[38;5;241m2\u001b[39m):\n\u001b[1;32m----> 4\u001b[0m     \u001b[38;5;28;01mif\u001b[39;00m list1[ele] \u001b[38;5;241m<\u001b[39m \u001b[43mlist1\u001b[49m\u001b[43m[\u001b[49m\u001b[43mele\u001b[49m\u001b[38;5;241;43m+\u001b[39;49m\u001b[38;5;241;43m1\u001b[39;49m\u001b[43m]\u001b[49m:\n\u001b[0;32m      5\u001b[0m         \u001b[38;5;28mprint\u001b[39m(\u001b[38;5;124m\"\u001b[39m\u001b[38;5;124mf\u001b[39m\u001b[38;5;124m\"\u001b[39m)\n",
      "\u001b[1;31mIndexError\u001b[0m: list index out of range"
     ]
    }
   ],
   "source": [
    "list1 = [2,4,15,97,45,34,98,105,3]\n",
    "lenth = len(list1)\n",
    "for ele in range(0,lenth,2):\n",
    "    if list1[ele] < list1[ele+1]:\n",
    "        \n",
    "        \n",
    "    else:\n",
    "        "
   ]
  },
  {
   "cell_type": "code",
   "execution_count": null,
   "metadata": {},
   "outputs": [],
   "source": []
  },
  {
   "cell_type": "code",
   "execution_count": null,
   "metadata": {},
   "outputs": [],
   "source": []
  },
  {
   "cell_type": "code",
   "execution_count": 1,
   "metadata": {},
   "outputs": [
    {
     "ename": "TypeError",
     "evalue": "list indices must be integers or slices, not str",
     "output_type": "error",
     "traceback": [
      "\u001b[1;31m---------------------------------------------------------------------------\u001b[0m",
      "\u001b[1;31mTypeError\u001b[0m                                 Traceback (most recent call last)",
      "Input \u001b[1;32mIn [1]\u001b[0m, in \u001b[0;36m<cell line: 6>\u001b[1;34m()\u001b[0m\n\u001b[0;32m      5\u001b[0m count \u001b[38;5;241m=\u001b[39m \u001b[38;5;241m0\u001b[39m\n\u001b[0;32m      6\u001b[0m \u001b[38;5;28;01mfor\u001b[39;00m i \u001b[38;5;129;01min\u001b[39;00m check_list:\n\u001b[1;32m----> 7\u001b[0m     \u001b[38;5;28;01mfor\u001b[39;00m j \u001b[38;5;129;01min\u001b[39;00m \u001b[43mdata\u001b[49m\u001b[43m[\u001b[49m\u001b[38;5;124;43m'\u001b[39;49m\u001b[38;5;124;43mPart\u001b[39;49m\u001b[38;5;124;43m'\u001b[39;49m\u001b[43m]\u001b[49m:\n\u001b[0;32m      8\u001b[0m         \u001b[38;5;28;01mif\u001b[39;00m j\u001b[38;5;241m.\u001b[39msplit(\u001b[38;5;124m\"\u001b[39m\u001b[38;5;124m \u001b[39m\u001b[38;5;124m\"\u001b[39m)[\u001b[38;5;241m-\u001b[39m\u001b[38;5;241m1\u001b[39m] \u001b[38;5;241m==\u001b[39m i:\n\u001b[0;32m      9\u001b[0m             count \u001b[38;5;241m+\u001b[39m\u001b[38;5;241m=\u001b[39m \u001b[38;5;241m1\u001b[39m\n",
      "\u001b[1;31mTypeError\u001b[0m: list indices must be integers or slices, not str"
     ]
    }
   ],
   "source": [
    "import re\n",
    "check_list = [\"Screen\", \"Camera\", \"Port\", \"OS\", \"Body\"]\n",
    "data=['LED Screen', 'OLED Screen', 'AMOLED Screen', 'OLED Screen', 'USB-C Port', 'ED Screen']\n",
    "listk = []\n",
    "count = 0\n",
    "for i in check_list:\n",
    "    for j in data['Part']:\n",
    "        if j.split(\" \")[-1] == i:\n",
    "            count += 1\n",
    "        break\n",
    "    if count >= 1:\n",
    "        listk.append(j)\n",
    "    else:\n",
    "        print(\"message Not Valid\")\n",
    "print(listk)"
   ]
  },
  {
   "cell_type": "code",
   "execution_count": null,
   "metadata": {},
   "outputs": [],
   "source": []
  },
  {
   "cell_type": "code",
   "execution_count": 4,
   "metadata": {},
   "outputs": [
    {
     "name": "stdout",
     "output_type": "stream",
     "text": [
      "enter find namevk\n",
      "v\n",
      "k\n",
      "k\n"
     ]
    }
   ],
   "source": [
    "name_str = input(\"enter find name str : \",)\n",
    "length = len(name_str)\n",
    "for ele in name_str:\n",
    "    if ele == \" \":\n",
    "        \n",
    "    "
   ]
  },
  {
   "cell_type": "code",
   "execution_count": 12,
   "metadata": {},
   "outputs": [
    {
     "name": "stdout",
     "output_type": "stream",
     "text": [
      "Enter your string name : vikash kumar saini\n",
      "['v', 'k', 's']\n"
     ]
    }
   ],
   "source": [
    "str1 = input(\"Enter your string name : \")\n",
    "ls = str1.split()\n",
    "result = [item[0] for item in ls]\n",
    "print(result)"
   ]
  },
  {
   "cell_type": "code",
   "execution_count": 13,
   "metadata": {},
   "outputs": [
    {
     "name": "stdout",
     "output_type": "stream",
     "text": [
      "Enter your string name : vikash kumar saini\n",
      "v\n",
      "k\n",
      "s\n"
     ]
    }
   ],
   "source": [
    "str2 = input(\"Enter your string name : \")\n",
    "ls2 = str1.split()\n",
    "for ele in ls2:\n",
    "    print(ele[0])"
   ]
  },
  {
   "cell_type": "code",
   "execution_count": 14,
   "metadata": {},
   "outputs": [
    {
     "ename": "SyntaxError",
     "evalue": "expected ':' (876291256.py, line 7)",
     "output_type": "error",
     "traceback": [
      "\u001b[1;36m  Input \u001b[1;32mIn [14]\u001b[1;36m\u001b[0m\n\u001b[1;33m    if ss\u001b[0m\n\u001b[1;37m          ^\u001b[0m\n\u001b[1;31mSyntaxError\u001b[0m\u001b[1;31m:\u001b[0m expected ':'\n"
     ]
    }
   ],
   "source": [
    "str21 = \"aabcaaadabbb\"\n",
    "# output = \"2a1b1c3aaa1d1a3b\"\n",
    "count = []\n",
    "dic = {}\n",
    "new = \"\"\n",
    "length = len(str21)\n",
    "for ss in str21:\n",
    "    if ss "
   ]
  },
  {
   "cell_type": "code",
   "execution_count": 33,
   "metadata": {},
   "outputs": [
    {
     "name": "stdout",
     "output_type": "stream",
     "text": [
      "Enter number : 6\n",
      "this is not prime no\n"
     ]
    }
   ],
   "source": [
    "# prime no\n",
    "\n",
    "num = int(input(\"Enter number : \"))\n",
    "for ele in range(2,num):\n",
    "    if num % ele == 0:\n",
    "        print(\"this is not prime no\")\n",
    "        break\n",
    "else:\n",
    "        print(\"this is prime no\")"
   ]
  },
  {
   "cell_type": "code",
   "execution_count": 34,
   "metadata": {},
   "outputs": [
    {
     "name": "stdout",
     "output_type": "stream",
     "text": [
      " Enter number : 50\n",
      "0\n",
      "1\n",
      "1\n",
      "2\n",
      "3\n",
      "5\n"
     ]
    }
   ],
   "source": [
    "# fibonacci serige\n",
    "\n",
    "num1 = input(\" Enter number : \")\n",
    "\n",
    "a = 0\n",
    "b =1\n",
    "c = 0\n",
    "\n",
    "while c <= num:\n",
    "    print(c)\n",
    "    a = b\n",
    "    b = c\n",
    "    c = a + b"
   ]
  },
  {
   "cell_type": "code",
   "execution_count": 1,
   "metadata": {},
   "outputs": [
    {
     "ename": "SyntaxError",
     "evalue": "invalid syntax (2229380790.py, line 1)",
     "output_type": "error",
     "traceback": [
      "\u001b[1;36m  Input \u001b[1;32mIn [1]\u001b[1;36m\u001b[0m\n\u001b[1;33m    def ram:\u001b[0m\n\u001b[1;37m           ^\u001b[0m\n\u001b[1;31mSyntaxError\u001b[0m\u001b[1;31m:\u001b[0m invalid syntax\n"
     ]
    }
   ],
   "source": [
    "def ram:\n",
    "    a = 10\n",
    "    b = 2\n",
    "    return a+b\n",
    "ram()"
   ]
  },
  {
   "cell_type": "markdown",
   "metadata": {},
   "source": [
    "# json dumps"
   ]
  },
  {
   "cell_type": "code",
   "execution_count": 5,
   "metadata": {},
   "outputs": [
    {
     "name": "stdout",
     "output_type": "stream",
     "text": [
      "<class 'str'>\n",
      "<class 'dict'>\n",
      "{\"name\": \"vicky\", \"roll\": 355}\n"
     ]
    }
   ],
   "source": [
    "import json \n",
    "\n",
    "dat = {\"name\":\"vicky\",\"roll\":355}\n",
    "\n",
    "res = json.dumps(dat)\n",
    "print(type(res))\n",
    "print(type(dat))\n",
    "print(res)"
   ]
  },
  {
   "cell_type": "markdown",
   "metadata": {},
   "source": [
    "# json loads"
   ]
  },
  {
   "cell_type": "code",
   "execution_count": 4,
   "metadata": {},
   "outputs": [
    {
     "name": "stdout",
     "output_type": "stream",
     "text": [
      "<class 'dict'>\n",
      "{'name': 'vicky', 'roll': 355}\n"
     ]
    }
   ],
   "source": [
    "res1 = json.loads(res)\n",
    "print(type(res1))\n",
    "print(res1)"
   ]
  },
  {
   "cell_type": "code",
   "execution_count": null,
   "metadata": {},
   "outputs": [],
   "source": []
  },
  {
   "cell_type": "code",
   "execution_count": 26,
   "metadata": {},
   "outputs": [
    {
     "ename": "AttributeError",
     "evalue": "'list' object has no attribute 'split'",
     "output_type": "error",
     "traceback": [
      "\u001b[1;31m---------------------------------------------------------------------------\u001b[0m",
      "\u001b[1;31mAttributeError\u001b[0m                            Traceback (most recent call last)",
      "Input \u001b[1;32mIn [26]\u001b[0m, in \u001b[0;36m<cell line: 5>\u001b[1;34m()\u001b[0m\n\u001b[0;32m      6\u001b[0m     \u001b[38;5;28;01mif\u001b[39;00m ele \u001b[38;5;129;01mnot\u001b[39;00m \u001b[38;5;129;01min\u001b[39;00m str2:\n\u001b[0;32m      7\u001b[0m         str2\u001b[38;5;241m.\u001b[39mappend(ele)\n\u001b[1;32m----> 8\u001b[0m         \u001b[43mstr2\u001b[49m\u001b[38;5;241;43m.\u001b[39;49m\u001b[43msplit\u001b[49m()\n\u001b[0;32m      9\u001b[0m \u001b[38;5;28mprint\u001b[39m(str2)\n",
      "\u001b[1;31mAttributeError\u001b[0m: 'list' object has no attribute 'split'"
     ]
    }
   ],
   "source": [
    "# wap given string take only one element in string exa :- \"asdnfaaammmddd\" then output :- asdnfm\n",
    "\n",
    "str1 = 'aaabbbssjj'\n",
    "str2 = []\n",
    "for ele in str1:\n",
    "    if ele not in str2:\n",
    "        str2.append(ele)\n",
    "        str2.split()\n",
    "print(str2)\n",
    "        "
   ]
  },
  {
   "cell_type": "code",
   "execution_count": 20,
   "metadata": {},
   "outputs": [
    {
     "name": "stdout",
     "output_type": "stream",
     "text": [
      "{'f': 3, 'kf': 1, 'kl': 0}\n"
     ]
    }
   ],
   "source": [
    "d = {\"f\":3,\"kf\":1,\"kl\":0,\"jd\":54}\n",
    "new = {}\n",
    "for key,value in d.items():\n",
    "    for value2 in d.values():\n",
    "        if value < value2:\n",
    "            new[key] = value\n",
    "print(new)"
   ]
  },
  {
   "cell_type": "code",
   "execution_count": 18,
   "metadata": {},
   "outputs": [
    {
     "name": "stdout",
     "output_type": "stream",
     "text": [
      "f 3\n",
      "jd 54\n",
      "kf 1\n",
      "kl 0\n"
     ]
    }
   ],
   "source": [
    "d = {\"f\":3,\"kf\":1,\"kl\":0,\"jd\":54}\n",
    "\n",
    "for c in sorted(d):\n",
    "    print(c,d[c])"
   ]
  },
  {
   "cell_type": "code",
   "execution_count": null,
   "metadata": {},
   "outputs": [],
   "source": []
  },
  {
   "cell_type": "code",
   "execution_count": null,
   "metadata": {},
   "outputs": [],
   "source": []
  },
  {
   "cell_type": "code",
   "execution_count": 14,
   "metadata": {},
   "outputs": [],
   "source": [
    "databases = {\"latitude\":[12.918352,12.921184,12.918373,12.919254,12.914690,12.953687,12.917331,12.918902],\"longitude\":[77.631660, 77.630584, 77.633855, 77.615176, 77.642529, 77.609172, 77.637845, 77.651302]}\n",
    "\n",
    "list1 = databases[\"latitude\"]\n",
    "list2 = databases[\"longitude\"]\n",
    "\n",
    "length = len(list1)\n",
    "list3 = []\n",
    "\n",
    "#for ele in range(length):\n",
    "    \n"
   ]
  },
  {
   "cell_type": "code",
   "execution_count": 25,
   "metadata": {},
   "outputs": [
    {
     "name": "stdout",
     "output_type": "stream",
     "text": [
      "Result: 25.08255263519393\n",
      "Result: 25.39607569736461\n",
      "Result: 24.92728744861497\n",
      "Result: 26.372462270660332\n",
      "Result: 24.00457946881134\n",
      "Result: 29.651812987094416\n",
      "Result: 24.55694548735198\n",
      "Result: 23.773911760063758\n",
      "{'latitude': [12.918373, 12.91469, 12.917331, 12.918902], 'longitude': [77.633855, 77.642529, 77.637845, 77.651302]}\n",
      "Should be: 278.546 km\n"
     ]
    }
   ],
   "source": [
    "from math import sin, cos, sqrt, atan2, radians\n",
    "# approximate radius of earth in km\n",
    "R = 6373.0\n",
    "dict1 = {\"latitude\":[],\"longitude\":[]}\n",
    "for ele in range(length):\n",
    "    lat1 = radians(12.74940)\n",
    "    lon1 = radians(77.78484)\n",
    "    lat2 = radians(list1[ele])\n",
    "    lon2 = radians(list2[ele])\n",
    "\n",
    "    dlon = lon2 - lon1\n",
    "    dlat = lat2 - lat1\n",
    "\n",
    "    a = sin(dlat / 2)**2 + cos(lat1) * cos(lat2) * sin(dlon / 2)**2\n",
    "    c = 2 * atan2(sqrt(a), sqrt(1 - a))\n",
    "\n",
    "    distance = R * c\n",
    "    print(\"Result:\", distance)\n",
    "    if 25 >= distance:\n",
    "        dict1[\"latitude\"].append(list1[ele])\n",
    "        dict1[\"longitude\"].append(list2[ele])\n",
    "print(dict1)\n",
    "print(\"Should be:\", 278.546, \"km\")"
   ]
  },
  {
   "cell_type": "code",
   "execution_count": null,
   "metadata": {},
   "outputs": [],
   "source": []
  },
  {
   "cell_type": "code",
   "execution_count": 45,
   "metadata": {},
   "outputs": [
    {
     "name": "stdout",
     "output_type": "stream",
     "text": [
      "Result: 0.5404457849681555\n",
      "Result: 8232.61062454366\n",
      "Result: 8375.11713848161\n",
      "Result: 8375.585954916036\n",
      "Result: 8378.637735640395\n",
      "Result: 8374.311644562667\n",
      "Result: 8378.086681650899\n",
      "Result: 8379.491593961458\n"
     ]
    },
    {
     "data": {
      "text/plain": [
       "{'latitude': [12.918352,\n",
       "  12.921184,\n",
       "  12.918373,\n",
       "  12.919254,\n",
       "  12.91469,\n",
       "  12.953687,\n",
       "  12.917331,\n",
       "  12.918902],\n",
       " 'longitude': [77.63166,\n",
       "  77.630584,\n",
       "  77.633855,\n",
       "  77.615176,\n",
       "  77.642529,\n",
       "  77.609172,\n",
       "  77.637845,\n",
       "  77.651302]}"
      ]
     },
     "execution_count": 45,
     "metadata": {},
     "output_type": "execute_result"
    }
   ],
   "source": [
    "\n",
    "def distance_count(la1,lon1,distance1):\n",
    "    list1 = databases[\"latitude\"]\n",
    "    list2 = databases[\"longitude\"]\n",
    "\n",
    "    length = len(list1)\n",
    "    list3 = []\n",
    "    \n",
    "    R = 6373.0\n",
    "    dict1 = {\"latitude\":[],\"longitude\":[]}\n",
    "    for ele in range(length):\n",
    "        lat1 = radians(la1)\n",
    "        lon1 = radians(lon1)\n",
    "        lat2 = radians(list1[ele])\n",
    "        lon2 = radians(list2[ele])\n",
    "\n",
    "        dlon = lon2 - lon1\n",
    "        dlat = lat2 - lat1\n",
    "\n",
    "        a = sin(dlat / 2)**2 + cos(lat1) * cos(lat2) * sin(dlon / 2)**2\n",
    "        c = 2 * atan2(sqrt(a), sqrt(1 - a))\n",
    "\n",
    "        distance = R * c\n",
    "        print(\"Result:\", distance)\n",
    "        if distance1 >= distance:\n",
    "            dict1[\"latitude\"].append(list1[ele])\n",
    "            dict1[\"longitude\"].append(list2[ele])\n",
    "    return dict1\n",
    "distance_count(la1 = 12.923206,lon1= 77.631882,distance1 = 11000)"
   ]
  },
  {
   "cell_type": "code",
   "execution_count": null,
   "metadata": {},
   "outputs": [],
   "source": [
    "12.923206, 77.631882"
   ]
  },
  {
   "cell_type": "code",
   "execution_count": null,
   "metadata": {},
   "outputs": [],
   "source": []
  },
  {
   "cell_type": "code",
   "execution_count": null,
   "metadata": {},
   "outputs": [],
   "source": []
  }
 ],
 "metadata": {
  "kernelspec": {
   "display_name": "Python 3 (ipykernel)",
   "language": "python",
   "name": "python3"
  },
  "language_info": {
   "codemirror_mode": {
    "name": "ipython",
    "version": 3
   },
   "file_extension": ".py",
   "mimetype": "text/x-python",
   "name": "python",
   "nbconvert_exporter": "python",
   "pygments_lexer": "ipython3",
   "version": "3.10.7"
  }
 },
 "nbformat": 4,
 "nbformat_minor": 4
}
