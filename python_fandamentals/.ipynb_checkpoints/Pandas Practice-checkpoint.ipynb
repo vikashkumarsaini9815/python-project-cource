{
 "cells": [
  {
   "cell_type": "markdown",
   "id": "cc3609e5",
   "metadata": {},
   "source": [
    "# Pandas Practice"
   ]
  },
  {
   "cell_type": "code",
   "execution_count": null,
   "id": "2fca15a9",
   "metadata": {},
   "outputs": [],
   "source": []
  },
  {
   "cell_type": "code",
   "execution_count": 2,
   "id": "e34876db",
   "metadata": {},
   "outputs": [],
   "source": [
    "import pandas as pd"
   ]
  },
  {
   "cell_type": "code",
   "execution_count": 9,
   "id": "6f547d92",
   "metadata": {},
   "outputs": [
    {
     "name": "stdout",
     "output_type": "stream",
     "text": [
      "apple     1\n",
      "mango     2\n",
      "banana    3\n",
      "orange    4\n",
      "dtype: int64\n"
     ]
    }
   ],
   "source": [
    "# Series a one daimancial data structur sport hetrogenisis\n",
    "\n",
    "\n",
    "p1 = pd.Series(data = [1,2,3,4], index = [\"apple\",\"mango\",\"banana\",\"orange\"]);\n",
    "print(p1)"
   ]
  },
  {
   "cell_type": "code",
   "execution_count": 12,
   "id": "b2f26c0e",
   "metadata": {},
   "outputs": [
    {
     "name": "stdout",
     "output_type": "stream",
     "text": [
      "1\n",
      "2\n",
      "3\n"
     ]
    }
   ],
   "source": [
    "print(p1[\"apple\"])\n",
    "print(p1[\"mango\"])\n",
    "print(p1[\"banana\"])"
   ]
  },
  {
   "cell_type": "code",
   "execution_count": 13,
   "id": "0592ed0d",
   "metadata": {},
   "outputs": [
    {
     "data": {
      "text/plain": [
       "apple     1\n",
       "mango     2\n",
       "banana    3\n",
       "orange    4\n",
       "dtype: int64"
      ]
     },
     "execution_count": 13,
     "metadata": {},
     "output_type": "execute_result"
    }
   ],
   "source": [
    "# withuot data and index name\n",
    "\n",
    "p2 = pd.Series([1,2,3,4], [\"apple\",\"mango\",\"banana\",\"orange\"]);\n",
    "\n",
    "p2"
   ]
  },
  {
   "cell_type": "code",
   "execution_count": 14,
   "id": "abf57b3c",
   "metadata": {},
   "outputs": [
    {
     "data": {
      "text/plain": [
       "apple       1\n",
       "mango       2\n",
       "banana    Ram\n",
       "orange      4\n",
       "dtype: object"
      ]
     },
     "execution_count": 14,
     "metadata": {},
     "output_type": "execute_result"
    }
   ],
   "source": [
    "# heterogenisis\n",
    "\n",
    "p3 = pd.Series(data = [1,2,\"Ram\",4], index = [\"apple\",\"mango\",\"banana\",\"orange\"]);\n",
    "\n",
    "p3"
   ]
  },
  {
   "cell_type": "code",
   "execution_count": null,
   "id": "dc76b2e9",
   "metadata": {},
   "outputs": [],
   "source": [
    "p4 = pd.Series([1,2,\"Ram\",4], [\"apple\",89,\"banana\",\"orange\"]);\n",
    "\n",
    "p4"
   ]
  },
  {
   "cell_type": "code",
   "execution_count": 17,
   "id": "4486dd39",
   "metadata": {},
   "outputs": [
    {
     "data": {
      "text/plain": [
       "Index(['apple', '89', 'banana', 'orange'], dtype='object')"
      ]
     },
     "execution_count": 17,
     "metadata": {},
     "output_type": "execute_result"
    }
   ],
   "source": [
    "# get all index\n",
    "\n",
    "\n",
    "p4.index"
   ]
  },
  {
   "cell_type": "code",
   "execution_count": 21,
   "id": "d09f66f7",
   "metadata": {},
   "outputs": [
    {
     "name": "stdout",
     "output_type": "stream",
     "text": [
      "2\n",
      "mango       2\n",
      "banana    Ram\n",
      "orange      4\n",
      "dtype: object\n"
     ]
    }
   ],
   "source": [
    "# get value index\n",
    "\n",
    "p5 = pd.Series([1,2,\"Ram\",4], [\"apple\",\"mango\",\"banana\",\"orange\"])\n",
    "\n",
    "print(p5[1])\n",
    "print(p5[[1,2,3]])"
   ]
  },
  {
   "cell_type": "code",
   "execution_count": null,
   "id": "7e09292a",
   "metadata": {},
   "outputs": [],
   "source": []
  },
  {
   "cell_type": "code",
   "execution_count": null,
   "id": "a82ef2cf",
   "metadata": {},
   "outputs": [],
   "source": []
  }
 ],
 "metadata": {
  "kernelspec": {
   "display_name": "Python 3 (ipykernel)",
   "language": "python",
   "name": "python3"
  },
  "language_info": {
   "codemirror_mode": {
    "name": "ipython",
    "version": 3
   },
   "file_extension": ".py",
   "mimetype": "text/x-python",
   "name": "python",
   "nbconvert_exporter": "python",
   "pygments_lexer": "ipython3",
   "version": "3.10.5"
  }
 },
 "nbformat": 4,
 "nbformat_minor": 5
}
