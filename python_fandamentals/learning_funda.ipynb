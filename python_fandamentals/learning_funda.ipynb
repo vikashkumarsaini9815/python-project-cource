{
 "cells": [
  {
   "cell_type": "code",
   "execution_count": null,
   "id": "c405c25c",
   "metadata": {},
   "outputs": [],
   "source": []
  },
  {
   "cell_type": "code",
   "execution_count": null,
   "id": "be001cf7",
   "metadata": {},
   "outputs": [],
   "source": []
  },
  {
   "cell_type": "code",
   "execution_count": null,
   "id": "8faadcac",
   "metadata": {},
   "outputs": [],
   "source": []
  },
  {
   "cell_type": "raw",
   "id": "8a626400",
   "metadata": {},
   "source": [
    "Q. 1 wap prime number"
   ]
  },
  {
   "cell_type": "code",
   "execution_count": 22,
   "id": "2236a7b8",
   "metadata": {},
   "outputs": [
    {
     "name": "stdout",
     "output_type": "stream",
     "text": [
      "Enter number : 15\n",
      "This number not prime\n"
     ]
    }
   ],
   "source": [
    "num = int(input(\"Enter number : \"))\n",
    "\n",
    "for ele in range(2,num):\n",
    "    if num % ele  == 0:\n",
    "        print(\"This number not prime\")\n",
    "        break\n",
    "else:\n",
    "    print(\"This is number prime \")"
   ]
  },
  {
   "cell_type": "raw",
   "id": "aa615ec6",
   "metadata": {},
   "source": [
    "Q. 2 wap prime no and give output a list in prime"
   ]
  },
  {
   "cell_type": "code",
   "execution_count": 20,
   "id": "e2ddb0ee",
   "metadata": {},
   "outputs": [
    {
     "name": "stdout",
     "output_type": "stream",
     "text": [
      "Enter Number : 9\n",
      "This is not prime\n",
      "[]\n"
     ]
    }
   ],
   "source": [
    "num1 = int(input(\"Enter Number : \"))\n",
    "prime_list = []\n",
    "\n",
    "for ele in range(2,num1):\n",
    "    if num1 % ele == 0:\n",
    "        print (\"This is not prime\")\n",
    "        break\n",
    "    if ele % 2 != 0:\n",
    "        prime_list.append(ele)\n",
    "        \n",
    "else:\n",
    "    print(\"This is prime no\")\n",
    "print(prime_list)"
   ]
  },
  {
   "cell_type": "raw",
   "id": "59b85ce9",
   "metadata": {},
   "source": [
    "Q. 3 wap revers str \"hi my name is vikas\""
   ]
  },
  {
   "cell_type": "code",
   "execution_count": 5,
   "id": "40fc5f1f",
   "metadata": {},
   "outputs": [
    {
     "data": {
      "text/plain": [
       "'hsakiv si eman ym ih'"
      ]
     },
     "execution_count": 5,
     "metadata": {},
     "output_type": "execute_result"
    }
   ],
   "source": [
    "str1 = \"hi my name is vikash\"\n",
    "\n",
    "str1[::-1]"
   ]
  },
  {
   "cell_type": "code",
   "execution_count": null,
   "id": "6ff392df",
   "metadata": {},
   "outputs": [],
   "source": [
    "Q. 4 wap given a [\"a\",\"b\",\"c\",\"d\",\"b\",\"b\",\"c\"] so count ocurence  "
   ]
  },
  {
   "cell_type": "code",
   "execution_count": null,
   "id": "9c28a1d2",
   "metadata": {},
   "outputs": [],
   "source": []
  }
 ],
 "metadata": {
  "kernelspec": {
   "display_name": "Python 3 (ipykernel)",
   "language": "python",
   "name": "python3"
  },
  "language_info": {
   "codemirror_mode": {
    "name": "ipython",
    "version": 3
   },
   "file_extension": ".py",
   "mimetype": "text/x-python",
   "name": "python",
   "nbconvert_exporter": "python",
   "pygments_lexer": "ipython3",
   "version": "3.10.5"
  }
 },
 "nbformat": 4,
 "nbformat_minor": 5
}
