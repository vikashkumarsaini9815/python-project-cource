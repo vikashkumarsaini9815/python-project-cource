{
 "cells": [
  {
   "cell_type": "markdown",
   "id": "5f996f3a",
   "metadata": {},
   "source": [
    "# oops concepts"
   ]
  },
  {
   "cell_type": "markdown",
   "id": "cc06aedf",
   "metadata": {},
   "source": [
    "how many concepts are oops programming"
   ]
  },
  {
   "cell_type": "markdown",
   "id": "e1a86479",
   "metadata": {},
   "source": [
    "1. class \n",
    "2. objects\n",
    "3. methode\n",
    "4. inheritance\n",
    "5. polymorphisme\n",
    "6. abstractions\n",
    "7. incapsulation"
   ]
  },
  {
   "cell_type": "code",
   "execution_count": null,
   "id": "4b6600d3",
   "metadata": {},
   "outputs": [],
   "source": []
  },
  {
   "cell_type": "markdown",
   "id": "87c4a0af",
   "metadata": {},
   "source": [
    "# 1. Class"
   ]
  },
  {
   "cell_type": "code",
   "execution_count": null,
   "id": "b70f60cc",
   "metadata": {},
   "outputs": [],
   "source": [
    "A class is a collaction of objects a class cantaints the beluprints \n",
    "or the prototypes which the object are dbeing created . it is the logycaly etitise  \n"
   ]
  },
  {
   "cell_type": "code",
   "execution_count": null,
   "id": "42014048",
   "metadata": {},
   "outputs": [],
   "source": []
  },
  {
   "cell_type": "code",
   "execution_count": null,
   "id": "bb8be362",
   "metadata": {},
   "outputs": [],
   "source": []
  },
  {
   "cell_type": "code",
   "execution_count": null,
   "id": "d7f68466",
   "metadata": {},
   "outputs": [],
   "source": []
  },
  {
   "cell_type": "code",
   "execution_count": null,
   "id": "5819ed8f",
   "metadata": {},
   "outputs": [],
   "source": []
  },
  {
   "cell_type": "markdown",
   "id": "60f65890",
   "metadata": {},
   "source": [
    "# Inharitance"
   ]
  },
  {
   "cell_type": "code",
   "execution_count": null,
   "id": "34c501e5",
   "metadata": {},
   "outputs": [],
   "source": []
  },
  {
   "cell_type": "code",
   "execution_count": null,
   "id": "6903c011",
   "metadata": {},
   "outputs": [],
   "source": []
  },
  {
   "cell_type": "code",
   "execution_count": null,
   "id": "cbd47c76",
   "metadata": {},
   "outputs": [],
   "source": []
  },
  {
   "cell_type": "markdown",
   "id": "c89c7ef4",
   "metadata": {},
   "source": [
    "Exa:-"
   ]
  },
  {
   "cell_type": "markdown",
   "id": "4a65ba2c",
   "metadata": {},
   "source": [
    "Parent calss "
   ]
  },
  {
   "cell_type": "code",
   "execution_count": 7,
   "id": "0213b30f",
   "metadata": {},
   "outputs": [
    {
     "name": "stdout",
     "output_type": "stream",
     "text": [
      "BMW 2500000\n",
      "volvo 1500000\n"
     ]
    }
   ],
   "source": [
    "class Vehical():\n",
    "    def __init__(self, model_name,praice):\n",
    "        self.model_name = model_name\n",
    "        self.praice = praice\n",
    "    def Show_detials(self):\n",
    "        print(self.model_name,self.praice)\n",
    "V1 = Vehical(\"BMW\",2500000)\n",
    "\n",
    "V1.Show_detials()\n",
    "\n",
    "V2 = Vehical(\"volvo\",1500000)\n",
    "V2.Show_detials()\n"
   ]
  },
  {
   "cell_type": "code",
   "execution_count": null,
   "id": "24ed2ae7",
   "metadata": {},
   "outputs": [],
   "source": []
  },
  {
   "cell_type": "markdown",
   "id": "eb2ffb89",
   "metadata": {},
   "source": [
    "Chaild class"
   ]
  },
  {
   "cell_type": "code",
   "execution_count": 8,
   "id": "dd4e519c",
   "metadata": {},
   "outputs": [
    {
     "name": "stdout",
     "output_type": "stream",
     "text": [
      "TATA 1230000\n"
     ]
    }
   ],
   "source": [
    "class Car(Vehical):\n",
    "    pass\n",
    "X = Car (\"TATA\",1230000)\n",
    "X.Show_detials()"
   ]
  },
  {
   "cell_type": "code",
   "execution_count": 10,
   "id": "4b97136c",
   "metadata": {},
   "outputs": [
    {
     "ename": "SyntaxError",
     "evalue": "invalid syntax (742789509.py, line 2)",
     "output_type": "error",
     "traceback": [
      "\u001b[1;36m  Input \u001b[1;32mIn [10]\u001b[1;36m\u001b[0m\n\u001b[1;33m    def__init__(self,Model_name,price):\u001b[0m\n\u001b[1;37m                                      ^\u001b[0m\n\u001b[1;31mSyntaxError\u001b[0m\u001b[1;31m:\u001b[0m invalid syntax\n"
     ]
    }
   ],
   "source": [
    "class Car(Vehical):\n",
    "    def__init__(self,Model_name,price):\n",
    "        Vehical.__init__(self, Model_name,price)\n"
   ]
  },
  {
   "cell_type": "code",
   "execution_count": null,
   "id": "681802a8",
   "metadata": {},
   "outputs": [],
   "source": [
    "cayymthc9c"
   ]
  },
  {
   "cell_type": "code",
   "execution_count": null,
   "id": "3e1d8bbc",
   "metadata": {},
   "outputs": [],
   "source": []
  }
 ],
 "metadata": {
  "kernelspec": {
   "display_name": "Python 3 (ipykernel)",
   "language": "python",
   "name": "python3"
  },
  "language_info": {
   "codemirror_mode": {
    "name": "ipython",
    "version": 3
   },
   "file_extension": ".py",
   "mimetype": "text/x-python",
   "name": "python",
   "nbconvert_exporter": "python",
   "pygments_lexer": "ipython3",
   "version": "3.10.7"
  }
 },
 "nbformat": 4,
 "nbformat_minor": 5
}
