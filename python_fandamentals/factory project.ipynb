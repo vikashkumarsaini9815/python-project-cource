{
 "cells": [
  {
   "cell_type": "markdown",
   "id": "655e1e8e",
   "metadata": {},
   "source": [
    "# Project works"
   ]
  },
  {
   "cell_type": "code",
   "execution_count": null,
   "id": "c1f7e247",
   "metadata": {},
   "outputs": [],
   "source": []
  },
  {
   "cell_type": "code",
   "execution_count": 3,
   "id": "8a13db3b",
   "metadata": {},
   "outputs": [],
   "source": [
    "data={\n",
    "        \"A\": [10.28, \"ED Screen\"],\n",
    "        \"B\": [24.07, \"OLED Screen\"],\n",
    "        \"C\": [33.3, \"AMOLED Screen\"],\n",
    "        \"D\": [25.94, \"Wide-Angle Camera\"],\n",
    "        \"E\": [32.39, \"Ultra-Wide-Angle Camera\"],\n",
    "        \"F\": [18.77, \"USB-C Port\"],\n",
    "        \"G\": [15.13, \"Micro-USB Port\"],\n",
    "        \"H\": [20.0, \"Lightning Port\"],\n",
    "        \"I\": [42.31, \"Android OS\"],\n",
    "        \"J\": [45.0, \"ios OS\"],\n",
    "        \"K\": [45.0, \"Metallic Body\"],\n",
    "        \"L\": [30.0, \"Plastic Body\"]\n",
    "}\n"
   ]
  },
  {
   "cell_type": "code",
   "execution_count": 26,
   "id": "363f6045",
   "metadata": {},
   "outputs": [
    {
     "name": "stdout",
     "output_type": "stream",
     "text": [
      "Enter partAELH\n",
      "{'order_id': 193, 'Total': 92.67, 'parts': ['ED Screen', 'Ultra-Wide-Angle Camera', 'Plastic Body', 'Lightning Port']}\n"
     ]
    }
   ],
   "source": [
    "from random import randint\n",
    "ganrateotp = randint(100, 999)\n",
    "import re\n",
    "componet = input(\"Enter part\",)\n",
    "list1 = list(componet)\n",
    "total = 0\n",
    "parts_of_list =[]\n",
    "final_result = {}\n",
    "for part in list1:\n",
    "    rev = data[part]\n",
    "    price = rev[0]\n",
    "    part = rev[1]\n",
    "    parts_of_list.append(part)\n",
    "    total += price\n",
    "final_result={\"order_id\":ganrateotp,\"Total\":total,\"parts\":parts_of_list}\n",
    "print(final_result)"
   ]
  },
  {
   "cell_type": "code",
   "execution_count": 27,
   "id": "1fc0ece1",
   "metadata": {},
   "outputs": [
    {
     "name": "stdout",
     "output_type": "stream",
     "text": [
      "['ED Screen', 'Ultra-Wide-Angle Camera', 'Plastic Body', 'Lightning Port']\n"
     ]
    }
   ],
   "source": [
    "check_list =[\"Screen\",\"Camera\",\"Port\",\"OS\",\"Body\"]\n",
    "print(final_result['parts'])"
   ]
  },
  {
   "cell_type": "code",
   "execution_count": null,
   "id": "7e5aa222",
   "metadata": {},
   "outputs": [],
   "source": []
  },
  {
   "cell_type": "code",
   "execution_count": 5,
   "id": "cf607bcc",
   "metadata": {},
   "outputs": [],
   "source": [
    "from random import randint\n",
    "ganrateotp = randint(100, 999)"
   ]
  },
  {
   "cell_type": "code",
   "execution_count": null,
   "id": "898ecb32",
   "metadata": {},
   "outputs": [],
   "source": [
    "print(ganrateotp)"
   ]
  },
  {
   "cell_type": "code",
   "execution_count": null,
   "id": "9bbaf95f",
   "metadata": {},
   "outputs": [],
   "source": []
  },
  {
   "cell_type": "code",
   "execution_count": 25,
   "id": "672ecd83",
   "metadata": {},
   "outputs": [
    {
     "name": "stdout",
     "output_type": "stream",
     "text": [
      "batnize aadmi\n"
     ]
    }
   ],
   "source": [
    "mylist = [\"a\", \"b\",\"c\", \"b\"]\n",
    "cd = []\n",
    "for i in mylist:\n",
    "    if i not in cd:\n",
    "        cd.append(i)\n",
    "    else:\n",
    "        def res(rev):        \n",
    "            return rev\n",
    "        rev = (\"batnize aadmi\")\n",
    "        print(res(rev))\n"
   ]
  },
  {
   "cell_type": "code",
   "execution_count": 2,
   "id": "ccd6468c",
   "metadata": {},
   "outputs": [],
   "source": [
    "\n",
    "\n",
    "            \n",
    "    "
   ]
  },
  {
   "cell_type": "code",
   "execution_count": 37,
   "id": "7127aa39",
   "metadata": {},
   "outputs": [
    {
     "name": "stdout",
     "output_type": "stream",
     "text": [
      "Enter partAEL\n"
     ]
    }
   ],
   "source": [
    "from random import randint\n",
    "ganrateotp = randint(100, 999)\n",
    "componet = input(\"Enter part\",)\n",
    "list1 = list(componet)\n",
    "total = 0\n",
    "parts_of_list =[]\n",
    "final_result = {}\n",
    "for part in list1:\n",
    "    rev = data[part]\n",
    "    price = rev[0]\n",
    "    part = rev[1]\n",
    "    parts_of_list.append(part)\n",
    "    total += price\n",
    "final_result={\"order_id\":ganrateotp,\"Total\":total,\"parts\":parts_of_list}\n",
    "parts_list = final_result[\"parts\"]\n",
    "\n",
    "# check_list = [\"Screen\",\"Camera\",\"Port\",\"OS\",\"Body\"]\n",
    "# ll = []\n",
    "# for ele in list3:\n",
    "#     for dataele2 in parts_list:    \n",
    "#         rev=dataele2.split()\n",
    "#         rev.reverse()\n",
    "#         chek_str = rev[0]\n",
    "#         if chek_str == ele:\n",
    "#             print(\"good\")\n",
    "#             message = {\"data\":\"Data given you\"}\n",
    "#             #return message\n",
    "#             if ele in ll:\n",
    "#                 print(\"this is not valid\")\n",
    "#                 #return response                        \n",
    "#             else:\n",
    "#                 ll.append(ele)"
   ]
  },
  {
   "cell_type": "code",
   "execution_count": 38,
   "id": "39a7f717",
   "metadata": {},
   "outputs": [
    {
     "name": "stdout",
     "output_type": "stream",
     "text": [
      "['ED Screen', 'Ultra-Wide-Angle Camera', 'Plastic Body']\n"
     ]
    }
   ],
   "source": [
    "print(parts_list)"
   ]
  },
  {
   "cell_type": "code",
   "execution_count": 61,
   "id": "7e9e15e0",
   "metadata": {},
   "outputs": [
    {
     "name": "stdout",
     "output_type": "stream",
     "text": [
      "['Screen', 'Screen', 'Screen', 'Screen', 'Screen']\n",
      "[]\n",
      "['Port']\n",
      "[]\n",
      "[]\n"
     ]
    }
   ],
   "source": [
    "import re\n",
    "checkparts = final_result[\"parts\"]\n",
    "check_list =[\"Screen\",\"Camera\",\"Port\",\"OS\",\"Body\"]\n",
    "c = ' '.join(checkparts)\n",
    "for ii in check_list:\n",
    "    x = re.findall(ii, c)\n",
    "    print(x)\n",
    "    "
   ]
  },
  {
   "cell_type": "code",
   "execution_count": 33,
   "id": "3b7a9fa9",
   "metadata": {},
   "outputs": [
    {
     "ename": "SyntaxError",
     "evalue": "invalid syntax (3370243639.py, line 3)",
     "output_type": "error",
     "traceback": [
      "\u001b[1;36m  Input \u001b[1;32mIn [33]\u001b[1;36m\u001b[0m\n\u001b[1;33m    if par not checkparts:\u001b[0m\n\u001b[1;37m               ^\u001b[0m\n\u001b[1;31mSyntaxError\u001b[0m\u001b[1;31m:\u001b[0m invalid syntax\n"
     ]
    }
   ],
   "source": [
    "lk = []\n",
    "for par in check_list:\n",
    "    if par not checkparts:\n",
    "        print(par)\n",
    "    else:\n",
    "        print(\"ram \")"
   ]
  },
  {
   "cell_type": "code",
   "execution_count": 5,
   "id": "62433996",
   "metadata": {},
   "outputs": [],
   "source": [
    "#check_list me jo element hai vo data list me repite nhi hona chaiye\n",
    "#wap check_list ka koi bhi element aagar data list me aata hai to given a message not valid\n",
    "import re\n",
    "check_list = [\"Screen\",\"Camera\",\"Port\",\"OS\",\"Body\"]\n",
    "\n",
    "#check =['ED Screen', 'OLED Screen', 'AMOLED Screen', 'Wide-Angle Camera', 'Ultra-Wide-Angle Camera', 'USB-C Port', 'Micro-USB Port', 'Lightning Port', 'Android OS', 'ios OS', 'Metallic Body', 'Plastic Body']\n",
    "\n",
    "\n",
    "Data=['ED Screen', 'OLED Screen', 'AMOLED Screen','FF OS', 'OLED Screen', 'USB-C Port', 'ED Screen',\"dd OS\"]\n",
    "varib = 0\n",
    "for ele in check_list:\n",
    "    for i in Data:\n",
    "        if re.findall(ele, i):\n",
    "            varib += 1\n",
    "    if varib == 2:\n",
    "        varib = 0\n",
    "        print(ele)\n",
    "        break\n",
    "#print(ele)"
   ]
  },
  {
   "cell_type": "code",
   "execution_count": null,
   "id": "d2ec43b4",
   "metadata": {},
   "outputs": [],
   "source": []
  },
  {
   "cell_type": "code",
   "execution_count": 5,
   "id": "53bf09d2",
   "metadata": {},
   "outputs": [
    {
     "name": "stdout",
     "output_type": "stream",
     "text": [
      "True\n",
      "Chalne do koi issue nhi h\n",
      "Chalne do koi issue nhi h\n",
      "True\n",
      "Not salected duplicat\n",
      "2\n"
     ]
    }
   ],
   "source": [
    "def list_contains(List1, List2):\n",
    "    count = 0\n",
    "    for m in list1:\n",
    "        for n in list2:\n",
    "            if n.split(\" \")[-1] == m:\n",
    "                count += 1\n",
    "                print(\"True\")\n",
    "        if count > 1:\n",
    "            print(\"Not salected duplicat\")\n",
    "            break\n",
    "        else:\n",
    "            print(\"Chalne do koi issue nhi h\")\n",
    "    return count\n",
    "list1 = [\"Screen\",\"Camera\",\"Port\",\"OS\",\"Body\"]\n",
    "list2 = ['USB-C Port', 'ED Screen']\n",
    "\n",
    "print(list_contains(list1,list2))"
   ]
  },
  {
   "cell_type": "code",
   "execution_count": 17,
   "id": "1c72e3be",
   "metadata": {},
   "outputs": [
    {
     "name": "stdout",
     "output_type": "stream",
     "text": [
      "Chalne do koi issue nhi h\n",
      "True\n",
      "Not salected duplicat\n",
      "Chalne do koi issue nhi h\n",
      "Not salected duplicat\n",
      "True\n",
      "Not salected duplicat\n",
      "Not salected duplicat\n",
      "Not salected duplicat\n"
     ]
    },
    {
     "data": {
      "text/plain": [
       "0"
      ]
     },
     "execution_count": 17,
     "metadata": {},
     "output_type": "execute_result"
    }
   ],
   "source": [
    "def list_contains(List1, List2):\n",
    "    count = 0\n",
    "    lls = []\n",
    "    for m in list1:\n",
    "        for n in list2:\n",
    "            l = n.split(\" \")[-1]\n",
    "            if l == m:\n",
    "                lls.append(l)\n",
    "                print(\"True\")\n",
    "            if l in lls:\n",
    "                print(\"Not salected duplicat\")\n",
    "                break\n",
    "            else:\n",
    "                print(\"Chalne do koi issue nhi h\")\n",
    "    return count\n",
    "list1 = [\"Screen\",\"Camera\",\"Port\",\"OS\",\"Body\"]\n",
    "list2 = ['USB-C Port', 'ED Screen']\n",
    "\n",
    "list_contains(list1,list2)"
   ]
  },
  {
   "cell_type": "code",
   "execution_count": null,
   "id": "83691eaf",
   "metadata": {},
   "outputs": [],
   "source": []
  },
  {
   "cell_type": "code",
   "execution_count": 1,
   "id": "aa55a311",
   "metadata": {},
   "outputs": [],
   "source": [
    "list3 = [\"Screen\",\"Camera\",\"Port\",\"OS\",\"Body\"]\n",
    "list4 = ['USB-C Port', 'ED Screen','ram OS','opp OS']\n",
    "ll = []\n",
    "for ele in list3:\n",
    "    for dataele2 in list4:    \n",
    "        rev=dataele2.split()\n",
    "        rev.reverse()\n",
    "        chek_str = rev[0]\n",
    "        if chek_str == ele:\n",
    "            message = {\"data\":\"Data given you\"}\n",
    "            #return message\n",
    "            if ele in ll:\n",
    "                response=(\"this is not valid\")\n",
    "                #return response                        \n",
    "        else:\n",
    "                ll.append(ele)\n",
    "        "
   ]
  },
  {
   "cell_type": "raw",
   "id": "02b3b68e",
   "metadata": {},
   "source": [
    "['ED Screen', 'OLED Screen', 'AMOLED Screen', 'Wide-Angle Camera', 'Ultra-Wide-Angle Camera', 'USB-C Port', 'Micro-USB Port', 'Lightning Port']"
   ]
  },
  {
   "cell_type": "code",
   "execution_count": 39,
   "id": "80e70d0c",
   "metadata": {},
   "outputs": [
    {
     "data": {
      "text/plain": [
       "['ED Screen', 'Ultra-Wide-Angle Camera', 'Plastic Body']"
      ]
     },
     "execution_count": 39,
     "metadata": {},
     "output_type": "execute_result"
    }
   ],
   "source": [
    "parts_list"
   ]
  },
  {
   "cell_type": "code",
   "execution_count": 40,
   "id": "14cdafd3",
   "metadata": {},
   "outputs": [],
   "source": [
    "check_list = [\"Screen\",\"Camera\",\"Port\",\"OS\",\"Body\"]\n",
    "valide_flag = True\n",
    "parts_count_dict = {\"Screen\":0,\"Camera\":0,\"Port\":0,\"OS\":0,\"Body\":0}\n",
    "\n",
    "for c_part in check_list:\n",
    "    for part in parts_list:\n",
    "        if c_part in part:            \n",
    "            parts_count_dict[c_part] = parts_count_dict[c_part] + 1\n",
    "        if parts_count_dict[c_part] >= 2:\n",
    "            valide_flag = False\n",
    "            print(\"invaid\")\n",
    "            break\n",
    "    if valide_flag is False:\n",
    "        break\n"
   ]
  },
  {
   "cell_type": "code",
   "execution_count": 41,
   "id": "ebde46bb",
   "metadata": {},
   "outputs": [
    {
     "data": {
      "text/plain": [
       "True"
      ]
     },
     "execution_count": 41,
     "metadata": {},
     "output_type": "execute_result"
    }
   ],
   "source": [
    "valide_flag"
   ]
  },
  {
   "cell_type": "code",
   "execution_count": 8,
   "id": "ce3b0f22",
   "metadata": {},
   "outputs": [],
   "source": [
    "if \"Screen\" in \"ED creen\":\n",
    "    print(\"True\")"
   ]
  },
  {
   "cell_type": "code",
   "execution_count": 16,
   "id": "067b6d80",
   "metadata": {},
   "outputs": [],
   "source": [
    "parts_count_dict = {\"Screen\":1,\"Camera\":0,\"Port\":0,\"OS\":0,\"Body\":0}\n",
    "parts_count_dict[\"Screen\"] = parts_count_dict[\"Screen\"] + 2"
   ]
  },
  {
   "cell_type": "code",
   "execution_count": 17,
   "id": "1595e141",
   "metadata": {},
   "outputs": [
    {
     "data": {
      "text/plain": [
       "{'Screen': 3, 'Camera': 0, 'Port': 0, 'OS': 0, 'Body': 0}"
      ]
     },
     "execution_count": 17,
     "metadata": {},
     "output_type": "execute_result"
    }
   ],
   "source": [
    "parts_count_dict"
   ]
  },
  {
   "cell_type": "code",
   "execution_count": null,
   "id": "ebd31379",
   "metadata": {},
   "outputs": [],
   "source": []
  },
  {
   "cell_type": "code",
   "execution_count": null,
   "id": "ed17c3ca",
   "metadata": {},
   "outputs": [],
   "source": []
  },
  {
   "cell_type": "code",
   "execution_count": 47,
   "id": "6f898372",
   "metadata": {},
   "outputs": [],
   "source": [
    "ll = \"AFKFHDM\"\n",
    "if ll.isupper():\n",
    "    "
   ]
  },
  {
   "cell_type": "code",
   "execution_count": null,
   "id": "cf6f8983",
   "metadata": {},
   "outputs": [],
   "source": []
  }
 ],
 "metadata": {
  "kernelspec": {
   "display_name": "Python 3 (ipykernel)",
   "language": "python",
   "name": "python3"
  },
  "language_info": {
   "codemirror_mode": {
    "name": "ipython",
    "version": 3
   },
   "file_extension": ".py",
   "mimetype": "text/x-python",
   "name": "python",
   "nbconvert_exporter": "python",
   "pygments_lexer": "ipython3",
   "version": "3.10.5"
  }
 },
 "nbformat": 4,
 "nbformat_minor": 5
}
